{
 "cells": [
  {
   "cell_type": "code",
   "execution_count": 117,
   "id": "damaged-myanmar",
   "metadata": {},
   "outputs": [
    {
     "name": "stdout",
     "output_type": "stream",
     "text": [
      "Collecting pyvis\n",
      "  Downloading pyvis-0.1.9-py3-none-any.whl (23 kB)\n",
      "Requirement already satisfied: ipython>=5.3.0 in c:\\users\\wojte\\appdata\\local\\programs\\python\\python39\\lib\\site-packages (from pyvis) (7.21.0)\n",
      "Collecting jsonpickle>=1.4.1\n",
      "  Downloading jsonpickle-2.0.0-py2.py3-none-any.whl (37 kB)\n",
      "Requirement already satisfied: jinja2>=2.9.6 in c:\\users\\wojte\\appdata\\local\\programs\\python\\python39\\lib\\site-packages (from pyvis) (2.11.3)\n",
      "Requirement already satisfied: networkx>=1.11 in c:\\users\\wojte\\appdata\\local\\programs\\python\\python39\\lib\\site-packages (from pyvis) (2.5.1)\n",
      "Requirement already satisfied: decorator in c:\\users\\wojte\\appdata\\local\\programs\\python\\python39\\lib\\site-packages (from ipython>=5.3.0->pyvis) (4.4.2)\n",
      "Requirement already satisfied: pickleshare in c:\\users\\wojte\\appdata\\local\\programs\\python\\python39\\lib\\site-packages (from ipython>=5.3.0->pyvis) (0.7.5)\n",
      "Requirement already satisfied: traitlets>=4.2 in c:\\users\\wojte\\appdata\\local\\programs\\python\\python39\\lib\\site-packages (from ipython>=5.3.0->pyvis) (5.0.5)\n",
      "Requirement already satisfied: colorama in c:\\users\\wojte\\appdata\\local\\programs\\python\\python39\\lib\\site-packages (from ipython>=5.3.0->pyvis) (0.4.4)\n",
      "Requirement already satisfied: pygments in c:\\users\\wojte\\appdata\\local\\programs\\python\\python39\\lib\\site-packages (from ipython>=5.3.0->pyvis) (2.8.1)\n",
      "Requirement already satisfied: backcall in c:\\users\\wojte\\appdata\\local\\programs\\python\\python39\\lib\\site-packages (from ipython>=5.3.0->pyvis) (0.2.0)\n",
      "Requirement already satisfied: jedi>=0.16 in c:\\users\\wojte\\appdata\\local\\programs\\python\\python39\\lib\\site-packages (from ipython>=5.3.0->pyvis) (0.18.0)\n",
      "Requirement already satisfied: prompt-toolkit!=3.0.0,!=3.0.1,<3.1.0,>=2.0.0 in c:\\users\\wojte\\appdata\\local\\programs\\python\\python39\\lib\\site-packages (from ipython>=5.3.0->pyvis) (3.0.17)\n",
      "Requirement already satisfied: setuptools>=18.5 in c:\\users\\wojte\\appdata\\local\\programs\\python\\python39\\lib\\site-packages (from ipython>=5.3.0->pyvis) (57.0.0)\n",
      "Requirement already satisfied: parso<0.9.0,>=0.8.0 in c:\\users\\wojte\\appdata\\local\\programs\\python\\python39\\lib\\site-packages (from jedi>=0.16->ipython>=5.3.0->pyvis) (0.8.1)\n",
      "Requirement already satisfied: MarkupSafe>=0.23 in c:\\users\\wojte\\appdata\\local\\programs\\python\\python39\\lib\\site-packages (from jinja2>=2.9.6->pyvis) (1.1.1)\n",
      "Requirement already satisfied: wcwidth in c:\\users\\wojte\\appdata\\local\\programs\\python\\python39\\lib\\site-packages (from prompt-toolkit!=3.0.0,!=3.0.1,<3.1.0,>=2.0.0->ipython>=5.3.0->pyvis) (0.2.5)\n",
      "Requirement already satisfied: ipython-genutils in c:\\users\\wojte\\appdata\\local\\programs\\python\\python39\\lib\\site-packages (from traitlets>=4.2->ipython>=5.3.0->pyvis) (0.2.0)\n",
      "Installing collected packages: jsonpickle, pyvis\n",
      "Successfully installed jsonpickle-2.0.0 pyvis-0.1.9\n"
     ]
    }
   ],
   "source": [
    "!pip install pyvis"
   ]
  },
  {
   "cell_type": "code",
   "execution_count": 119,
   "id": "convertible-conspiracy",
   "metadata": {},
   "outputs": [],
   "source": [
    "import networkx as nx\n",
    "import pandas as pd\n",
    "import matplotlib\n",
    "from pyvis.network import Network"
   ]
  },
  {
   "cell_type": "markdown",
   "id": "inclusive-wisdom",
   "metadata": {},
   "source": [
    "# Loading Data"
   ]
  },
  {
   "cell_type": "code",
   "execution_count": 25,
   "id": "structural-spencer",
   "metadata": {},
   "outputs": [],
   "source": [
    "df = pd.read_csv('./hero-network.csv')"
   ]
  },
  {
   "cell_type": "markdown",
   "id": "extraordinary-mozambique",
   "metadata": {},
   "source": [
    "# Analysis"
   ]
  },
  {
   "cell_type": "code",
   "execution_count": 26,
   "id": "chinese-passing",
   "metadata": {},
   "outputs": [
    {
     "data": {
      "text/plain": [
       "(6211,)"
      ]
     },
     "execution_count": 26,
     "metadata": {},
     "output_type": "execute_result"
    }
   ],
   "source": [
    "df.hero1.unique().shape"
   ]
  },
  {
   "cell_type": "code",
   "execution_count": 27,
   "id": "proprietary-munich",
   "metadata": {},
   "outputs": [
    {
     "data": {
      "text/plain": [
       "(6211,)"
      ]
     },
     "execution_count": 27,
     "metadata": {},
     "output_type": "execute_result"
    }
   ],
   "source": [
    "df.hero1.unique().shape"
   ]
  },
  {
   "cell_type": "code",
   "execution_count": 28,
   "id": "traditional-charger",
   "metadata": {},
   "outputs": [
    {
     "name": "stdout",
     "output_type": "stream",
     "text": [
      "hero1     LITTLE, ABNER\n",
      "hero2    PRINCESS ZANDA\n",
      "Name: 0, dtype: object\n"
     ]
    }
   ],
   "source": [
    "for i in range(df.shape[0]):\n",
    "    df.iloc[i,:]\n",
    "    []\n",
    "    print(df.iloc[i,:])\n",
    "    break"
   ]
  },
  {
   "cell_type": "code",
   "execution_count": 29,
   "id": "proprietary-studio",
   "metadata": {},
   "outputs": [],
   "source": [
    "a = df.iloc[i,:]"
   ]
  },
  {
   "cell_type": "code",
   "execution_count": 41,
   "id": "behind-settlement",
   "metadata": {},
   "outputs": [],
   "source": [
    "df = df[df.hero1 != df.hero2]"
   ]
  },
  {
   "cell_type": "code",
   "execution_count": 42,
   "id": "burning-translation",
   "metadata": {},
   "outputs": [
    {
     "data": {
      "text/html": [
       "<div>\n",
       "<style scoped>\n",
       "    .dataframe tbody tr th:only-of-type {\n",
       "        vertical-align: middle;\n",
       "    }\n",
       "\n",
       "    .dataframe tbody tr th {\n",
       "        vertical-align: top;\n",
       "    }\n",
       "\n",
       "    .dataframe thead th {\n",
       "        text-align: right;\n",
       "    }\n",
       "</style>\n",
       "<table border=\"1\" class=\"dataframe\">\n",
       "  <thead>\n",
       "    <tr style=\"text-align: right;\">\n",
       "      <th></th>\n",
       "      <th>hero1</th>\n",
       "      <th>hero2</th>\n",
       "    </tr>\n",
       "  </thead>\n",
       "  <tbody>\n",
       "    <tr>\n",
       "      <th>22</th>\n",
       "      <td>PRINCESS ZANDA</td>\n",
       "      <td>LITTLE, ABNER</td>\n",
       "    </tr>\n",
       "    <tr>\n",
       "      <th>39</th>\n",
       "      <td>PRINCESS ZANDA</td>\n",
       "      <td>LITTLE, ABNER</td>\n",
       "    </tr>\n",
       "    <tr>\n",
       "      <th>88224</th>\n",
       "      <td>PRINCESS ZANDA</td>\n",
       "      <td>LITTLE, ABNER</td>\n",
       "    </tr>\n",
       "  </tbody>\n",
       "</table>\n",
       "</div>"
      ],
      "text/plain": [
       "                hero1          hero2\n",
       "22     PRINCESS ZANDA  LITTLE, ABNER\n",
       "39     PRINCESS ZANDA  LITTLE, ABNER\n",
       "88224  PRINCESS ZANDA  LITTLE, ABNER"
      ]
     },
     "execution_count": 42,
     "metadata": {},
     "output_type": "execute_result"
    }
   ],
   "source": [
    "df.loc[(df.hero1 == a.hero2) & (df.hero2 == a.hero1), :] "
   ]
  },
  {
   "cell_type": "code",
   "execution_count": 43,
   "id": "alpha-quantity",
   "metadata": {},
   "outputs": [],
   "source": [
    "heros = sorted(df.hero1.unique())"
   ]
  },
  {
   "cell_type": "code",
   "execution_count": 44,
   "id": "athletic-alcohol",
   "metadata": {},
   "outputs": [],
   "source": [
    "h1c = df.groupby('hero1').count()\n",
    "h2c = df.groupby('hero2').count()"
   ]
  },
  {
   "cell_type": "code",
   "execution_count": 45,
   "id": "final-diving",
   "metadata": {},
   "outputs": [],
   "source": [
    "joined = pd.concat([h1c, h2c], axis=1).fillna(0)"
   ]
  },
  {
   "cell_type": "code",
   "execution_count": 46,
   "id": "premier-wheel",
   "metadata": {},
   "outputs": [],
   "source": [
    "counts = joined.hero1 + joined.hero2"
   ]
  },
  {
   "cell_type": "code",
   "execution_count": 47,
   "id": "american-words",
   "metadata": {},
   "outputs": [],
   "source": [
    "n = 10"
   ]
  },
  {
   "cell_type": "code",
   "execution_count": 48,
   "id": "passive-special",
   "metadata": {},
   "outputs": [],
   "source": [
    "super_superheros = counts.sort_values(ascending=False)[:n]"
   ]
  },
  {
   "cell_type": "code",
   "execution_count": 49,
   "id": "variable-antigua",
   "metadata": {},
   "outputs": [
    {
     "data": {
      "text/plain": [
       "CAPTAIN AMERICA         16259.0\n",
       "SPIDER-MAN/PETER PAR    13717.0\n",
       "IRON MAN/TONY STARK     11817.0\n",
       "THOR/DR. DONALD BLAK    11427.0\n",
       "THING/BENJAMIN J. GR    10681.0\n",
       "WOLVERINE/LOGAN         10353.0\n",
       "HUMAN TORCH/JOHNNY S    10237.0\n",
       "SCARLET WITCH/WANDA      9911.0\n",
       "MR. FANTASTIC/REED R     9775.0\n",
       "VISION                   9696.0\n",
       "dtype: float64"
      ]
     },
     "execution_count": 49,
     "metadata": {},
     "output_type": "execute_result"
    }
   ],
   "source": [
    "super_superheros[:n]"
   ]
  },
  {
   "cell_type": "code",
   "execution_count": 50,
   "id": "japanese-finder",
   "metadata": {},
   "outputs": [],
   "source": [
    "df_nn = df.loc[df.hero1.isin(super_superheros.index) & df.hero2.isin(super_superheros.index), ]"
   ]
  },
  {
   "cell_type": "code",
   "execution_count": 51,
   "id": "liked-player",
   "metadata": {},
   "outputs": [
    {
     "data": {
      "text/html": [
       "<div>\n",
       "<style scoped>\n",
       "    .dataframe tbody tr th:only-of-type {\n",
       "        vertical-align: middle;\n",
       "    }\n",
       "\n",
       "    .dataframe tbody tr th {\n",
       "        vertical-align: top;\n",
       "    }\n",
       "\n",
       "    .dataframe thead th {\n",
       "        text-align: right;\n",
       "    }\n",
       "</style>\n",
       "<table border=\"1\" class=\"dataframe\">\n",
       "  <thead>\n",
       "    <tr style=\"text-align: right;\">\n",
       "      <th></th>\n",
       "      <th>hero1</th>\n",
       "      <th>hero2</th>\n",
       "    </tr>\n",
       "  </thead>\n",
       "  <tbody>\n",
       "    <tr>\n",
       "      <th>463</th>\n",
       "      <td>IRON MAN/TONY STARK</td>\n",
       "      <td>SCARLET WITCH/WANDA</td>\n",
       "    </tr>\n",
       "    <tr>\n",
       "      <th>837</th>\n",
       "      <td>THING/BENJAMIN J. GR</td>\n",
       "      <td>CAPTAIN AMERICA</td>\n",
       "    </tr>\n",
       "    <tr>\n",
       "      <th>844</th>\n",
       "      <td>THING/BENJAMIN J. GR</td>\n",
       "      <td>WOLVERINE/LOGAN</td>\n",
       "    </tr>\n",
       "    <tr>\n",
       "      <th>847</th>\n",
       "      <td>THING/BENJAMIN J. GR</td>\n",
       "      <td>VISION</td>\n",
       "    </tr>\n",
       "    <tr>\n",
       "      <th>855</th>\n",
       "      <td>THING/BENJAMIN J. GR</td>\n",
       "      <td>MR. FANTASTIC/REED R</td>\n",
       "    </tr>\n",
       "    <tr>\n",
       "      <th>...</th>\n",
       "      <td>...</td>\n",
       "      <td>...</td>\n",
       "    </tr>\n",
       "    <tr>\n",
       "      <th>573393</th>\n",
       "      <td>CAPTAIN AMERICA</td>\n",
       "      <td>THOR/DR. DONALD BLAK</td>\n",
       "    </tr>\n",
       "    <tr>\n",
       "      <th>573828</th>\n",
       "      <td>HUMAN TORCH/JOHNNY S</td>\n",
       "      <td>CAPTAIN AMERICA</td>\n",
       "    </tr>\n",
       "    <tr>\n",
       "      <th>574357</th>\n",
       "      <td>SPIDER-MAN/PETER PAR</td>\n",
       "      <td>SCARLET WITCH/WANDA</td>\n",
       "    </tr>\n",
       "    <tr>\n",
       "      <th>574359</th>\n",
       "      <td>SPIDER-MAN/PETER PAR</td>\n",
       "      <td>CAPTAIN AMERICA</td>\n",
       "    </tr>\n",
       "    <tr>\n",
       "      <th>574386</th>\n",
       "      <td>CAPTAIN AMERICA</td>\n",
       "      <td>SCARLET WITCH/WANDA</td>\n",
       "    </tr>\n",
       "  </tbody>\n",
       "</table>\n",
       "<p>8891 rows × 2 columns</p>\n",
       "</div>"
      ],
      "text/plain": [
       "                       hero1                 hero2\n",
       "463     IRON MAN/TONY STARK   SCARLET WITCH/WANDA \n",
       "837     THING/BENJAMIN J. GR       CAPTAIN AMERICA\n",
       "844     THING/BENJAMIN J. GR      WOLVERINE/LOGAN \n",
       "847     THING/BENJAMIN J. GR               VISION \n",
       "855     THING/BENJAMIN J. GR  MR. FANTASTIC/REED R\n",
       "...                      ...                   ...\n",
       "573393       CAPTAIN AMERICA  THOR/DR. DONALD BLAK\n",
       "573828  HUMAN TORCH/JOHNNY S       CAPTAIN AMERICA\n",
       "574357  SPIDER-MAN/PETER PAR  SCARLET WITCH/WANDA \n",
       "574359  SPIDER-MAN/PETER PAR       CAPTAIN AMERICA\n",
       "574386       CAPTAIN AMERICA  SCARLET WITCH/WANDA \n",
       "\n",
       "[8891 rows x 2 columns]"
      ]
     },
     "execution_count": 51,
     "metadata": {},
     "output_type": "execute_result"
    }
   ],
   "source": [
    "df_nn"
   ]
  },
  {
   "cell_type": "code",
   "execution_count": 83,
   "id": "similar-soccer",
   "metadata": {},
   "outputs": [],
   "source": [
    "graph_data = df_nn.groupby(['hero1', 'hero2']).size().reset_index(name='weights')"
   ]
  },
  {
   "cell_type": "code",
   "execution_count": 84,
   "id": "average-protocol",
   "metadata": {},
   "outputs": [
    {
     "data": {
      "text/html": [
       "<div>\n",
       "<style scoped>\n",
       "    .dataframe tbody tr th:only-of-type {\n",
       "        vertical-align: middle;\n",
       "    }\n",
       "\n",
       "    .dataframe tbody tr th {\n",
       "        vertical-align: top;\n",
       "    }\n",
       "\n",
       "    .dataframe thead th {\n",
       "        text-align: right;\n",
       "    }\n",
       "</style>\n",
       "<table border=\"1\" class=\"dataframe\">\n",
       "  <thead>\n",
       "    <tr style=\"text-align: right;\">\n",
       "      <th></th>\n",
       "      <th>hero1</th>\n",
       "      <th>hero2</th>\n",
       "      <th>weights</th>\n",
       "    </tr>\n",
       "  </thead>\n",
       "  <tbody>\n",
       "    <tr>\n",
       "      <th>0</th>\n",
       "      <td>CAPTAIN AMERICA</td>\n",
       "      <td>HUMAN TORCH/JOHNNY S</td>\n",
       "      <td>88</td>\n",
       "    </tr>\n",
       "    <tr>\n",
       "      <th>1</th>\n",
       "      <td>CAPTAIN AMERICA</td>\n",
       "      <td>IRON MAN/TONY STARK</td>\n",
       "      <td>220</td>\n",
       "    </tr>\n",
       "    <tr>\n",
       "      <th>2</th>\n",
       "      <td>CAPTAIN AMERICA</td>\n",
       "      <td>MR. FANTASTIC/REED R</td>\n",
       "      <td>82</td>\n",
       "    </tr>\n",
       "    <tr>\n",
       "      <th>3</th>\n",
       "      <td>CAPTAIN AMERICA</td>\n",
       "      <td>SCARLET WITCH/WANDA</td>\n",
       "      <td>186</td>\n",
       "    </tr>\n",
       "    <tr>\n",
       "      <th>4</th>\n",
       "      <td>CAPTAIN AMERICA</td>\n",
       "      <td>SPIDER-MAN/PETER PAR</td>\n",
       "      <td>79</td>\n",
       "    </tr>\n",
       "  </tbody>\n",
       "</table>\n",
       "</div>"
      ],
      "text/plain": [
       "             hero1                 hero2  weights\n",
       "0  CAPTAIN AMERICA  HUMAN TORCH/JOHNNY S       88\n",
       "1  CAPTAIN AMERICA  IRON MAN/TONY STARK       220\n",
       "2  CAPTAIN AMERICA  MR. FANTASTIC/REED R       82\n",
       "3  CAPTAIN AMERICA  SCARLET WITCH/WANDA       186\n",
       "4  CAPTAIN AMERICA  SPIDER-MAN/PETER PAR       79"
      ]
     },
     "execution_count": 84,
     "metadata": {},
     "output_type": "execute_result"
    }
   ],
   "source": [
    "graph_data.head()"
   ]
  },
  {
   "cell_type": "code",
   "execution_count": 116,
   "id": "cheap-frederick",
   "metadata": {},
   "outputs": [
    {
     "data": {
      "image/png": "[encoded data removed]",
      "text/plain": [
       "<Figure size 432x288 with 1 Axes>"
      ]
     },
     "metadata": {},
     "output_type": "display_data"
    }
   ],
   "source": [
    "G = nx.from_pandas_edgelist(graph_data, 'hero1', 'hero2', edge_attr=True)\n",
    "pos = nx.spring_layout(G, k=0.4, iterations=20, scale=0.1)\n",
    "nx.draw_kamada_kawai(G, with_labels=True, width=graph_data.weights/graph_data.weights.max()*5+1)"
   ]
  },
  {
   "cell_type": "code",
   "execution_count": 88,
   "id": "broke-merit",
   "metadata": {},
   "outputs": [
    {
     "data": {
      "text/plain": [
       "AtlasView({'HUMAN TORCH/JOHNNY S': {'weights': 70}, 'IRON MAN/TONY STARK ': {'weights': 226}, 'MR. FANTASTIC/REED R': {'weights': 84}, 'SCARLET WITCH/WANDA ': {'weights': 188}, 'SPIDER-MAN/PETER PAR': {'weights': 66}, 'THING/BENJAMIN J. GR': {'weights': 76}, 'THOR/DR. DONALD BLAK': {'weights': 195}, 'VISION ': {'weights': 205}, 'WOLVERINE/LOGAN ': {'weights': 33}})"
      ]
     },
     "execution_count": 88,
     "metadata": {},
     "output_type": "execute_result"
    }
   ],
   "source": [
    "G[\"CAPTAIN AMERICA\"]"
   ]
  },
  {
   "cell_type": "code",
   "execution_count": 120,
   "id": "behavioral-yemen",
   "metadata": {},
   "outputs": [
    {
     "data": {
      "text/html": [
       "\n",
       "        <iframe\n",
       "            width=\"500px\"\n",
       "            height=\"500px\"\n",
       "            src=\"example.html\"\n",
       "            frameborder=\"0\"\n",
       "            allowfullscreen\n",
       "        ></iframe>\n",
       "        "
      ],
      "text/plain": [
       "<IPython.lib.display.IFrame at 0x217aab5afa0>"
      ]
     },
     "execution_count": 120,
     "metadata": {},
     "output_type": "execute_result"
    }
   ],
   "source": [
    "net = Network(notebook=True)\n",
    "net.from_nx(G)\n",
    "net.show(\"example.html\")"
   ]
  }
 ],
 "metadata": {
  "kernelspec": {
   "display_name": "Python 3",
   "language": "python",
   "name": "python3"
  },
  "language_info": {
   "codemirror_mode": {
    "name": "ipython",
    "version": 3
   },
   "file_extension": ".py",
   "mimetype": "text/x-python",
   "name": "python",
   "nbconvert_exporter": "python",
   "pygments_lexer": "ipython3",
   "version": "3.9.5"
  }
 },
 "nbformat": 4,
 "nbformat_minor": 5
}
