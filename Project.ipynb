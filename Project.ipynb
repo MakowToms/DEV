{
 "cells": [
  {
   "cell_type": "code",
   "execution_count": 21,
   "id": "convertible-conspiracy",
   "metadata": {},
   "outputs": [],
   "source": [
    "import networkx as nx\n",
    "import pandas as pd"
   ]
  },
  {
   "cell_type": "markdown",
   "id": "inclusive-wisdom",
   "metadata": {},
   "source": [
    "# Loading Data"
   ]
  },
  {
   "cell_type": "code",
   "execution_count": 22,
   "id": "structural-spencer",
   "metadata": {},
   "outputs": [],
   "source": [
    "df = pd.read_csv('./hero-network.csv')"
   ]
  },
  {
   "cell_type": "markdown",
   "id": "extraordinary-mozambique",
   "metadata": {},
   "source": [
    "# Analysis"
   ]
  },
  {
   "cell_type": "code",
   "execution_count": 23,
   "id": "chinese-passing",
   "metadata": {},
   "outputs": [
    {
     "data": {
      "text/plain": [
       "(6211,)"
      ]
     },
     "execution_count": 23,
     "metadata": {},
     "output_type": "execute_result"
    }
   ],
   "source": [
    "df.hero1.unique().shape"
   ]
  },
  {
   "cell_type": "code",
   "execution_count": 24,
   "id": "proprietary-munich",
   "metadata": {},
   "outputs": [
    {
     "data": {
      "text/plain": [
       "(6211,)"
      ]
     },
     "execution_count": 24,
     "metadata": {},
     "output_type": "execute_result"
    }
   ],
   "source": [
    "df.hero1.unique().shape"
   ]
  },
  {
   "cell_type": "code",
   "execution_count": 27,
   "id": "traditional-charger",
   "metadata": {},
   "outputs": [
    {
     "name": "stdout",
     "output_type": "stream",
     "text": [
      "hero1     LITTLE, ABNER\n",
      "hero2    PRINCESS ZANDA\n",
      "Name: 0, dtype: object\n"
     ]
    }
   ],
   "source": [
    "for i in range(df.shape[0]):\n",
    "    df.iloc[i,:]\n",
    "    []\n",
    "    print(df.iloc[i,:])\n",
    "    break"
   ]
  },
  {
   "cell_type": "code",
   "execution_count": 29,
   "id": "proprietary-studio",
   "metadata": {},
   "outputs": [],
   "source": [
    "a = df.iloc[i,:]"
   ]
  },
  {
   "cell_type": "code",
   "execution_count": 43,
   "id": "burning-translation",
   "metadata": {},
   "outputs": [
    {
     "data": {
      "text/html": [
       "<div>\n",
       "<style scoped>\n",
       "    .dataframe tbody tr th:only-of-type {\n",
       "        vertical-align: middle;\n",
       "    }\n",
       "\n",
       "    .dataframe tbody tr th {\n",
       "        vertical-align: top;\n",
       "    }\n",
       "\n",
       "    .dataframe thead th {\n",
       "        text-align: right;\n",
       "    }\n",
       "</style>\n",
       "<table border=\"1\" class=\"dataframe\">\n",
       "  <thead>\n",
       "    <tr style=\"text-align: right;\">\n",
       "      <th></th>\n",
       "      <th>hero1</th>\n",
       "      <th>hero2</th>\n",
       "    </tr>\n",
       "  </thead>\n",
       "  <tbody>\n",
       "    <tr>\n",
       "      <th>22</th>\n",
       "      <td>PRINCESS ZANDA</td>\n",
       "      <td>LITTLE, ABNER</td>\n",
       "    </tr>\n",
       "    <tr>\n",
       "      <th>39</th>\n",
       "      <td>PRINCESS ZANDA</td>\n",
       "      <td>LITTLE, ABNER</td>\n",
       "    </tr>\n",
       "    <tr>\n",
       "      <th>88224</th>\n",
       "      <td>PRINCESS ZANDA</td>\n",
       "      <td>LITTLE, ABNER</td>\n",
       "    </tr>\n",
       "  </tbody>\n",
       "</table>\n",
       "</div>"
      ],
      "text/plain": [
       "                hero1          hero2\n",
       "22     PRINCESS ZANDA  LITTLE, ABNER\n",
       "39     PRINCESS ZANDA  LITTLE, ABNER\n",
       "88224  PRINCESS ZANDA  LITTLE, ABNER"
      ]
     },
     "execution_count": 43,
     "metadata": {},
     "output_type": "execute_result"
    }
   ],
   "source": [
    "df.loc[(df.hero1 == a.hero2) & (df.hero2 == a.hero1), :] "
   ]
  },
  {
   "cell_type": "code",
   "execution_count": 46,
   "id": "alpha-quantity",
   "metadata": {},
   "outputs": [],
   "source": [
    "heros = sorted(df.hero1.unique())"
   ]
  },
  {
   "cell_type": "code",
   "execution_count": 65,
   "id": "athletic-alcohol",
   "metadata": {},
   "outputs": [],
   "source": [
    "h1c = df.groupby('hero1').count()\n",
    "h2c = df.groupby('hero2').count()"
   ]
  },
  {
   "cell_type": "code",
   "execution_count": 88,
   "id": "final-diving",
   "metadata": {},
   "outputs": [],
   "source": [
    "joined = pd.concat([h1c, h2c], axis=1).fillna(0)"
   ]
  },
  {
   "cell_type": "code",
   "execution_count": 89,
   "id": "premier-wheel",
   "metadata": {},
   "outputs": [],
   "source": [
    "counts = joined.hero1 + joined.hero2"
   ]
  },
  {
   "cell_type": "code",
   "execution_count": 150,
   "id": "american-words",
   "metadata": {},
   "outputs": [],
   "source": [
    "n = 10"
   ]
  },
  {
   "cell_type": "code",
   "execution_count": 151,
   "id": "passive-special",
   "metadata": {},
   "outputs": [],
   "source": [
    "super_superheros = counts.sort_values(ascending=False)[:n]"
   ]
  },
  {
   "cell_type": "code",
   "execution_count": 152,
   "id": "variable-antigua",
   "metadata": {},
   "outputs": [
    {
     "data": {
      "text/plain": [
       "CAPTAIN AMERICA         16499.0\n",
       "SPIDER-MAN/PETER PAR    13717.0\n",
       "IRON MAN/TONY STARK     11817.0\n",
       "THOR/DR. DONALD BLAK    11427.0\n",
       "THING/BENJAMIN J. GR    10681.0\n",
       "WOLVERINE/LOGAN         10353.0\n",
       "HUMAN TORCH/JOHNNY S    10237.0\n",
       "SCARLET WITCH/WANDA      9911.0\n",
       "MR. FANTASTIC/REED R     9775.0\n",
       "VISION                   9696.0\n",
       "dtype: float64"
      ]
     },
     "execution_count": 152,
     "metadata": {},
     "output_type": "execute_result"
    }
   ],
   "source": [
    "super_superheros[:n]"
   ]
  },
  {
   "cell_type": "code",
   "execution_count": 153,
   "id": "japanese-finder",
   "metadata": {},
   "outputs": [],
   "source": [
    "df_nn = df.loc[df.hero1.isin(super_superheros.index) & df.hero2.isin(super_superheros.index), ]"
   ]
  },
  {
   "cell_type": "code",
   "execution_count": 154,
   "id": "liked-player",
   "metadata": {},
   "outputs": [
    {
     "data": {
      "text/html": [
       "<div>\n",
       "<style scoped>\n",
       "    .dataframe tbody tr th:only-of-type {\n",
       "        vertical-align: middle;\n",
       "    }\n",
       "\n",
       "    .dataframe tbody tr th {\n",
       "        vertical-align: top;\n",
       "    }\n",
       "\n",
       "    .dataframe thead th {\n",
       "        text-align: right;\n",
       "    }\n",
       "</style>\n",
       "<table border=\"1\" class=\"dataframe\">\n",
       "  <thead>\n",
       "    <tr style=\"text-align: right;\">\n",
       "      <th></th>\n",
       "      <th>hero1</th>\n",
       "      <th>hero2</th>\n",
       "    </tr>\n",
       "  </thead>\n",
       "  <tbody>\n",
       "    <tr>\n",
       "      <th>463</th>\n",
       "      <td>IRON MAN/TONY STARK</td>\n",
       "      <td>SCARLET WITCH/WANDA</td>\n",
       "    </tr>\n",
       "    <tr>\n",
       "      <th>837</th>\n",
       "      <td>THING/BENJAMIN J. GR</td>\n",
       "      <td>CAPTAIN AMERICA</td>\n",
       "    </tr>\n",
       "    <tr>\n",
       "      <th>844</th>\n",
       "      <td>THING/BENJAMIN J. GR</td>\n",
       "      <td>WOLVERINE/LOGAN</td>\n",
       "    </tr>\n",
       "    <tr>\n",
       "      <th>847</th>\n",
       "      <td>THING/BENJAMIN J. GR</td>\n",
       "      <td>VISION</td>\n",
       "    </tr>\n",
       "    <tr>\n",
       "      <th>855</th>\n",
       "      <td>THING/BENJAMIN J. GR</td>\n",
       "      <td>MR. FANTASTIC/REED R</td>\n",
       "    </tr>\n",
       "    <tr>\n",
       "      <th>...</th>\n",
       "      <td>...</td>\n",
       "      <td>...</td>\n",
       "    </tr>\n",
       "    <tr>\n",
       "      <th>573393</th>\n",
       "      <td>CAPTAIN AMERICA</td>\n",
       "      <td>THOR/DR. DONALD BLAK</td>\n",
       "    </tr>\n",
       "    <tr>\n",
       "      <th>573828</th>\n",
       "      <td>HUMAN TORCH/JOHNNY S</td>\n",
       "      <td>CAPTAIN AMERICA</td>\n",
       "    </tr>\n",
       "    <tr>\n",
       "      <th>574357</th>\n",
       "      <td>SPIDER-MAN/PETER PAR</td>\n",
       "      <td>SCARLET WITCH/WANDA</td>\n",
       "    </tr>\n",
       "    <tr>\n",
       "      <th>574359</th>\n",
       "      <td>SPIDER-MAN/PETER PAR</td>\n",
       "      <td>CAPTAIN AMERICA</td>\n",
       "    </tr>\n",
       "    <tr>\n",
       "      <th>574386</th>\n",
       "      <td>CAPTAIN AMERICA</td>\n",
       "      <td>SCARLET WITCH/WANDA</td>\n",
       "    </tr>\n",
       "  </tbody>\n",
       "</table>\n",
       "<p>9011 rows × 2 columns</p>\n",
       "</div>"
      ],
      "text/plain": [
       "                       hero1                 hero2\n",
       "463     IRON MAN/TONY STARK   SCARLET WITCH/WANDA \n",
       "837     THING/BENJAMIN J. GR       CAPTAIN AMERICA\n",
       "844     THING/BENJAMIN J. GR      WOLVERINE/LOGAN \n",
       "847     THING/BENJAMIN J. GR               VISION \n",
       "855     THING/BENJAMIN J. GR  MR. FANTASTIC/REED R\n",
       "...                      ...                   ...\n",
       "573393       CAPTAIN AMERICA  THOR/DR. DONALD BLAK\n",
       "573828  HUMAN TORCH/JOHNNY S       CAPTAIN AMERICA\n",
       "574357  SPIDER-MAN/PETER PAR  SCARLET WITCH/WANDA \n",
       "574359  SPIDER-MAN/PETER PAR       CAPTAIN AMERICA\n",
       "574386       CAPTAIN AMERICA  SCARLET WITCH/WANDA \n",
       "\n",
       "[9011 rows x 2 columns]"
      ]
     },
     "execution_count": 154,
     "metadata": {},
     "output_type": "execute_result"
    }
   ],
   "source": [
    "df_nn"
   ]
  },
  {
   "cell_type": "code",
   "execution_count": 161,
   "id": "similar-soccer",
   "metadata": {},
   "outputs": [
    {
     "data": {
      "text/html": [
       "<div>\n",
       "<style scoped>\n",
       "    .dataframe tbody tr th:only-of-type {\n",
       "        vertical-align: middle;\n",
       "    }\n",
       "\n",
       "    .dataframe tbody tr th {\n",
       "        vertical-align: top;\n",
       "    }\n",
       "\n",
       "    .dataframe thead th {\n",
       "        text-align: right;\n",
       "    }\n",
       "</style>\n",
       "<table border=\"1\" class=\"dataframe\">\n",
       "  <thead>\n",
       "    <tr style=\"text-align: right;\">\n",
       "      <th></th>\n",
       "      <th>hero1</th>\n",
       "      <th>hero2</th>\n",
       "      <th>counts</th>\n",
       "    </tr>\n",
       "  </thead>\n",
       "  <tbody>\n",
       "    <tr>\n",
       "      <th>0</th>\n",
       "      <td>CAPTAIN AMERICA</td>\n",
       "      <td>CAPTAIN AMERICA</td>\n",
       "      <td>120</td>\n",
       "    </tr>\n",
       "    <tr>\n",
       "      <th>1</th>\n",
       "      <td>CAPTAIN AMERICA</td>\n",
       "      <td>HUMAN TORCH/JOHNNY S</td>\n",
       "      <td>88</td>\n",
       "    </tr>\n",
       "    <tr>\n",
       "      <th>2</th>\n",
       "      <td>CAPTAIN AMERICA</td>\n",
       "      <td>IRON MAN/TONY STARK</td>\n",
       "      <td>220</td>\n",
       "    </tr>\n",
       "    <tr>\n",
       "      <th>3</th>\n",
       "      <td>CAPTAIN AMERICA</td>\n",
       "      <td>MR. FANTASTIC/REED R</td>\n",
       "      <td>82</td>\n",
       "    </tr>\n",
       "    <tr>\n",
       "      <th>4</th>\n",
       "      <td>CAPTAIN AMERICA</td>\n",
       "      <td>SCARLET WITCH/WANDA</td>\n",
       "      <td>186</td>\n",
       "    </tr>\n",
       "    <tr>\n",
       "      <th>...</th>\n",
       "      <td>...</td>\n",
       "      <td>...</td>\n",
       "      <td>...</td>\n",
       "    </tr>\n",
       "    <tr>\n",
       "      <th>86</th>\n",
       "      <td>WOLVERINE/LOGAN</td>\n",
       "      <td>SCARLET WITCH/WANDA</td>\n",
       "      <td>17</td>\n",
       "    </tr>\n",
       "    <tr>\n",
       "      <th>87</th>\n",
       "      <td>WOLVERINE/LOGAN</td>\n",
       "      <td>SPIDER-MAN/PETER PAR</td>\n",
       "      <td>25</td>\n",
       "    </tr>\n",
       "    <tr>\n",
       "      <th>88</th>\n",
       "      <td>WOLVERINE/LOGAN</td>\n",
       "      <td>THING/BENJAMIN J. GR</td>\n",
       "      <td>36</td>\n",
       "    </tr>\n",
       "    <tr>\n",
       "      <th>89</th>\n",
       "      <td>WOLVERINE/LOGAN</td>\n",
       "      <td>THOR/DR. DONALD BLAK</td>\n",
       "      <td>18</td>\n",
       "    </tr>\n",
       "    <tr>\n",
       "      <th>90</th>\n",
       "      <td>WOLVERINE/LOGAN</td>\n",
       "      <td>VISION</td>\n",
       "      <td>18</td>\n",
       "    </tr>\n",
       "  </tbody>\n",
       "</table>\n",
       "<p>91 rows × 3 columns</p>\n",
       "</div>"
      ],
      "text/plain": [
       "               hero1                 hero2  counts\n",
       "0    CAPTAIN AMERICA       CAPTAIN AMERICA     120\n",
       "1    CAPTAIN AMERICA  HUMAN TORCH/JOHNNY S      88\n",
       "2    CAPTAIN AMERICA  IRON MAN/TONY STARK      220\n",
       "3    CAPTAIN AMERICA  MR. FANTASTIC/REED R      82\n",
       "4    CAPTAIN AMERICA  SCARLET WITCH/WANDA      186\n",
       "..               ...                   ...     ...\n",
       "86  WOLVERINE/LOGAN   SCARLET WITCH/WANDA       17\n",
       "87  WOLVERINE/LOGAN   SPIDER-MAN/PETER PAR      25\n",
       "88  WOLVERINE/LOGAN   THING/BENJAMIN J. GR      36\n",
       "89  WOLVERINE/LOGAN   THOR/DR. DONALD BLAK      18\n",
       "90  WOLVERINE/LOGAN                VISION       18\n",
       "\n",
       "[91 rows x 3 columns]"
      ]
     },
     "execution_count": 161,
     "metadata": {},
     "output_type": "execute_result"
    }
   ],
   "source": [
    "df_nn.groupby(['hero1', 'hero2']).size().reset_index(name='counts')"
   ]
  },
  {
   "cell_type": "code",
   "execution_count": null,
   "id": "lovely-australian",
   "metadata": {},
   "outputs": [],
   "source": []
  }
 ],
 "metadata": {
  "kernelspec": {
   "display_name": "Python 3",
   "language": "python",
   "name": "python3"
  },
  "language_info": {
   "codemirror_mode": {
    "name": "ipython",
    "version": 3
   },
   "file_extension": ".py",
   "mimetype": "text/x-python",
   "name": "python",
   "nbconvert_exporter": "python",
   "pygments_lexer": "ipython3",
   "version": "3.8.3"
  }
 },
 "nbformat": 4,
 "nbformat_minor": 5
}
