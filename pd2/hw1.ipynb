{
  "nbformat": 4,
  "nbformat_minor": 0,
  "metadata": {
    "colab": {
      "name": "BioTWD_hw4_1.ipynb",
      "provenance": [],
      "collapsed_sections": []
    },
    "kernelspec": {
      "name": "python3",
      "display_name": "Python 3"
    },
    "language_info": {
      "name": "python"
    }
  },
  "cells": [
    {
      "cell_type": "code",
      "metadata": {
        "id": "nPkhooW4GWjV"
      },
      "source": [
        "from networkx import *\n",
        "import numpy as np\n",
        "import matplotlib.pyplot as plt"
      ],
      "execution_count": null,
      "outputs": []
    },
    {
      "cell_type": "markdown",
      "metadata": {
        "id": "uJs4fP67psne"
      },
      "source": [
        "Let's def a freeman function first."
      ]
    },
    {
      "cell_type": "code",
      "metadata": {
        "id": "Kulk4AKNll0i"
      },
      "source": [
        "def freeman(graph):\n",
        "  degrees = np.array([d[1] for d in graph.degree])\n",
        "  N = graph.number_of_nodes()\n",
        "  return sum(max(degrees) - degrees) / ((N - 1) * (N - 2))"
      ],
      "execution_count": null,
      "outputs": []
    },
    {
      "cell_type": "markdown",
      "metadata": {
        "id": "tikly18OraNA"
      },
      "source": [
        "Variables to control the flow."
      ]
    },
    {
      "cell_type": "code",
      "metadata": {
        "id": "O25nm6WqrZrY"
      },
      "source": [
        "VERBOSE = True"
      ],
      "execution_count": null,
      "outputs": []
    },
    {
      "cell_type": "markdown",
      "metadata": {
        "id": "JL4_QaiTlSD5"
      },
      "source": [
        "It's easier if we start from complete graph and then remove random edge, as it's the Erdős–Rényi model in reverse."
      ]
    },
    {
      "cell_type": "code",
      "metadata": {
        "id": "CG_HSEMyGuHR"
      },
      "source": [
        "G = complete_graph(8)\n",
        "edges_to_remove = np.random.permutation(list(G.edges))"
      ],
      "execution_count": null,
      "outputs": []
    },
    {
      "cell_type": "code",
      "metadata": {
        "id": "xe7IJ1AYmic2"
      },
      "source": [
        "freeman_scores = np.zeros(G.number_of_edges() + 1)\n",
        "freeman_scores[-1] = freeman(G)"
      ],
      "execution_count": null,
      "outputs": []
    },
    {
      "cell_type": "code",
      "metadata": {
        "colab": {
          "base_uri": "https://localhost:8080/"
        },
        "id": "_f4UMgmNo4A6",
        "outputId": "cb353370-2b58-4722-f34c-923771423d3c"
      },
      "source": [
        "for i, edge in enumerate(edges_to_remove):\n",
        "  G.remove_edge(*edge)\n",
        "  if VERBOSE:\n",
        "    print(\"Removed {} edge\".format(edge))\n",
        "  # We are clever and fill freeman_scores so that the graph with i edges is on i-th position\n",
        "  freeman_scores[-(i+2)] = freeman(G)"
      ],
      "execution_count": null,
      "outputs": [
        {
          "output_type": "stream",
          "text": [
            "Removed [3 7] edge\n",
            "Removed [1 6] edge\n",
            "Removed [2 3] edge\n",
            "Removed [6 7] edge\n",
            "Removed [2 5] edge\n",
            "Removed [1 2] edge\n",
            "Removed [3 5] edge\n",
            "Removed [1 5] edge\n",
            "Removed [0 2] edge\n",
            "Removed [3 6] edge\n",
            "Removed [0 4] edge\n",
            "Removed [1 3] edge\n",
            "Removed [4 6] edge\n",
            "Removed [2 7] edge\n",
            "Removed [4 5] edge\n",
            "Removed [0 1] edge\n",
            "Removed [2 6] edge\n",
            "Removed [0 3] edge\n",
            "Removed [0 7] edge\n",
            "Removed [5 7] edge\n",
            "Removed [4 7] edge\n",
            "Removed [5 6] edge\n",
            "Removed [1 7] edge\n",
            "Removed [0 5] edge\n",
            "Removed [1 4] edge\n",
            "Removed [0 6] edge\n",
            "Removed [3 4] edge\n",
            "Removed [2 4] edge\n"
          ],
          "name": "stdout"
        }
      ]
    },
    {
      "cell_type": "code",
      "metadata": {
        "colab": {
          "base_uri": "https://localhost:8080/",
          "height": 298
        },
        "id": "Hi5jE9GDqvHx",
        "outputId": "9b7c658d-42fe-445e-e0bc-798692ab500d"
      },
      "source": [
        "plt.plot(range(len(freeman_scores)), freeman_scores)\n",
        "plt.title(\"Freeman scores for number of edges\")"
      ],
      "execution_count": null,
      "outputs": [
        {
          "output_type": "execute_result",
          "data": {
            "text/plain": [
              "Text(0.5, 1.0, 'Freeman scores for number of edges')"
            ]
          },
          "metadata": {
            "tags": []
          },
          "execution_count": 96
        },
        {
          "output_type": "display_data",
          "data": {
            "image/png": "[encoded data removed]",
            "text/plain": [
              "<Figure size 432x288 with 1 Axes>"
            ]
          },
          "metadata": {
            "tags": [],
            "needs_background": "light"
          }
        }
      ]
    }
  ]
}