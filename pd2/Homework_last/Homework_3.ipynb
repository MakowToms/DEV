{
 "cells": [
  {
   "cell_type": "markdown",
   "metadata": {},
   "source": [
    "# Homework 3\n",
    "\n",
    "1. Open the Drosophila Network already provided.\n",
    "\n",
    "2. Check the various properties of the network:\n",
    "- Is the network scale free.\n",
    "- Can you find the important players of the network?"
   ]
  },
  {
   "cell_type": "markdown",
   "metadata": {},
   "source": [
    "# Loading Packages"
   ]
  },
  {
   "cell_type": "code",
   "execution_count": 1,
   "metadata": {},
   "outputs": [],
   "source": [
    "# NetworkX\n",
    "import networkx as nx\n",
    "\n",
    "# Powerlaw\n",
    "import powerlaw\n",
    "\n",
    "# Math\n",
    "import numpy as np\n",
    "import pandas as pd\n",
    "\n",
    "# Plot\n",
    "%matplotlib inline\n",
    "import matplotlib.pyplot as plt"
   ]
  },
  {
   "cell_type": "markdown",
   "metadata": {},
   "source": [
    "# Read Data"
   ]
  },
  {
   "cell_type": "code",
   "execution_count": 2,
   "metadata": {},
   "outputs": [],
   "source": [
    "df = pd.read_csv('drosophhila_net.csv', delimiter='\\t')"
   ]
  },
  {
   "cell_type": "markdown",
   "metadata": {},
   "source": [
    "# Create Graph"
   ]
  },
  {
   "cell_type": "code",
   "execution_count": 3,
   "metadata": {},
   "outputs": [],
   "source": [
    "def create_graph(df):\n",
    "    g = nx.Graph()\n",
    "    g.add_edges_from(np.array(df.iloc[:, [0, 1]]))\n",
    "    return g"
   ]
  },
  {
   "cell_type": "code",
   "execution_count": 4,
   "metadata": {},
   "outputs": [],
   "source": [
    "g = create_graph(df)"
   ]
  },
  {
   "cell_type": "code",
   "execution_count": 5,
   "metadata": {},
   "outputs": [
    {
     "data": {
      "text/plain": [
       "3610"
      ]
     },
     "execution_count": 5,
     "metadata": {},
     "output_type": "execute_result"
    }
   ],
   "source": [
    "len(g.nodes())"
   ]
  },
  {
   "cell_type": "markdown",
   "metadata": {},
   "source": [
    "# Scale"
   ]
  },
  {
   "cell_type": "code",
   "execution_count": 74,
   "metadata": {},
   "outputs": [],
   "source": [
    "d = sorted([d for n, d in G.degree()], reverse=True)"
   ]
  },
  {
   "cell_type": "code",
   "execution_count": 75,
   "metadata": {},
   "outputs": [
    {
     "data": {
      "text/plain": [
       "Text(0, 0.5, 'Number')"
      ]
     },
     "execution_count": 75,
     "metadata": {},
     "output_type": "execute_result"
    },
    {
     "data": {
      "image/png": "[encoded data removed]",
      "text/plain": [
       "<Figure size 432x288 with 1 Axes>"
      ]
     },
     "metadata": {
      "needs_background": "light"
     },
     "output_type": "display_data"
    }
   ],
   "source": [
    "plt.plot(degree_sequence)\n",
    "plt.title('Count of Verticles by Degree')\n",
    "plt.xlabel('Degree')\n",
    "plt.ylabel('Number')"
   ]
  },
  {
   "cell_type": "code",
   "execution_count": 47,
   "metadata": {},
   "outputs": [],
   "source": [
    "pl = powerlaw.Fit(\n",
    "    d,\n",
    "    xmin=1,\n",
    "    discrete=True\n",
    ") "
   ]
  },
  {
   "cell_type": "code",
   "execution_count": 6,
   "metadata": {},
   "outputs": [
    {
     "ename": "NameError",
     "evalue": "name 'pl' is not defined",
     "output_type": "error",
     "traceback": [
      "\u001b[1;31m---------------------------------------------------------------------------\u001b[0m",
      "\u001b[1;31mNameError\u001b[0m                                 Traceback (most recent call last)",
      "\u001b[1;32m<ipython-input-6-f932809c5655>\u001b[0m in \u001b[0;36m<module>\u001b[1;34m\u001b[0m\n\u001b[1;32m----> 1\u001b[1;33m \u001b[0mpl\u001b[0m\u001b[1;33m.\u001b[0m\u001b[0mplot_pdf\u001b[0m\u001b[1;33m(\u001b[0m\u001b[1;33m)\u001b[0m \u001b[1;31m# (color='b', linewidth=2)\u001b[0m\u001b[1;33m\u001b[0m\u001b[1;33m\u001b[0m\u001b[0m\n\u001b[0m\u001b[0;32m      2\u001b[0m \u001b[0mpl\u001b[0m\u001b[1;33m.\u001b[0m\u001b[0mpower_law\u001b[0m\u001b[1;33m.\u001b[0m\u001b[0mplot_pdf\u001b[0m\u001b[1;33m(\u001b[0m\u001b[0mcolor\u001b[0m\u001b[1;33m=\u001b[0m\u001b[1;34m'r'\u001b[0m\u001b[1;33m,\u001b[0m \u001b[0mlinestyle\u001b[0m\u001b[1;33m=\u001b[0m\u001b[1;34m'-'\u001b[0m\u001b[1;33m)\u001b[0m\u001b[1;33m;\u001b[0m\u001b[1;33m\u001b[0m\u001b[1;33m\u001b[0m\u001b[0m\n",
      "\u001b[1;31mNameError\u001b[0m: name 'pl' is not defined"
     ]
    }
   ],
   "source": [
    "pl.plot_pdf() # (color='b', linewidth=2)\n",
    "pl.power_law.plot_pdf(color='r', linestyle='-');"
   ]
  },
  {
   "cell_type": "code",
   "execution_count": 65,
   "metadata": {},
   "outputs": [
    {
     "data": {
      "text/plain": [
       "0.010339668081270115"
      ]
     },
     "execution_count": 65,
     "metadata": {},
     "output_type": "execute_result"
    }
   ],
   "source": [
    "pl.power_law.sigma"
   ]
  },
  {
   "cell_type": "markdown",
   "metadata": {},
   "source": [
    "Sigma is small so i think it is scale free."
   ]
  },
  {
   "cell_type": "markdown",
   "metadata": {},
   "source": [
    "# Can you find the important players of the network?"
   ]
  },
  {
   "cell_type": "code",
   "execution_count": 117,
   "metadata": {},
   "outputs": [],
   "source": [
    "def get_best(G, k=5, rank=nx.pagerank):\n",
    "    \"\"\"get_best\n",
    "    \n",
    "    \"\"\"\n",
    "    \n",
    "    pr = rank(G)\n",
    "    \n",
    "    keys   = np.array(list(pr.keys()))\n",
    "    values = np.array(list(pr.values()))\n",
    "    \n",
    "    return keys[np.argsort(values)[-k:]]"
   ]
  },
  {
   "cell_type": "code",
   "execution_count": 124,
   "metadata": {},
   "outputs": [],
   "source": [
    "k = 100"
   ]
  },
  {
   "cell_type": "code",
   "execution_count": 142,
   "metadata": {},
   "outputs": [
    {
     "data": {
      "text/plain": [
       "{'FBgn0000063',\n",
       " 'FBgn0000719',\n",
       " 'FBgn0003302',\n",
       " 'FBgn0003479',\n",
       " 'FBgn0004107',\n",
       " 'FBgn0004597',\n",
       " 'FBgn0005683',\n",
       " 'FBgn0010316',\n",
       " 'FBgn0011648',\n",
       " 'FBgn0013762',\n",
       " 'FBgn0016131',\n",
       " 'FBgn0024189',\n",
       " 'FBgn0024371',\n",
       " 'FBgn0025674',\n",
       " 'FBgn0026176',\n",
       " 'FBgn0026238',\n",
       " 'FBgn0026371',\n",
       " 'FBgn0027364',\n",
       " 'FBgn0027592',\n",
       " 'FBgn0028509',\n",
       " 'FBgn0030400',\n",
       " 'FBgn0030668',\n",
       " 'FBgn0031372',\n",
       " 'FBgn0031768',\n",
       " 'FBgn0031957',\n",
       " 'FBgn0033631',\n",
       " 'FBgn0034651',\n",
       " 'FBgn0035397',\n",
       " 'FBgn0035641',\n",
       " 'FBgn0036183',\n",
       " 'FBgn0036257',\n",
       " 'FBgn0036595',\n",
       " 'FBgn0036950',\n",
       " 'FBgn0036977',\n",
       " 'FBgn0037345',\n",
       " 'FBgn0037382',\n",
       " 'FBgn0039395',\n",
       " 'FBgn0039856',\n",
       " 'FBgn0039858',\n",
       " 'FBgn0042102',\n",
       " 'FBgn0045759',\n",
       " 'FBgn0259168',\n",
       " 'FBgn0263111',\n",
       " 'FBgn0265998'}"
      ]
     },
     "execution_count": 142,
     "metadata": {},
     "output_type": "execute_result"
    }
   ],
   "source": [
    "set(get_best(G, rank=nx.pagerank, k=k)).intersection(\n",
    "    set(get_best(G, rank=lambda x: nx.hits(x)[0], k=k))\n",
    ")"
   ]
  },
  {
   "cell_type": "code",
   "execution_count": null,
   "metadata": {},
   "outputs": [],
   "source": []
  }
 ],
 "metadata": {
  "kernelspec": {
   "display_name": "Python 3",
   "language": "python",
   "name": "python3"
  },
  "language_info": {
   "codemirror_mode": {
    "name": "ipython",
    "version": 3
   },
   "file_extension": ".py",
   "mimetype": "text/x-python",
   "name": "python",
   "nbconvert_exporter": "python",
   "pygments_lexer": "ipython3",
   "version": "3.8.3"
  }
 },
 "nbformat": 4,
 "nbformat_minor": 4
}
