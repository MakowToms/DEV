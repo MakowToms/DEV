{
 "cells": [
  {
   "cell_type": "markdown",
   "metadata": {},
   "source": [
    "# Homework 3\n",
    "\n",
    "1. Open the Drosophila Network already provided.\n",
    "\n",
    "2. Check the various properties of the network:\n",
    "- Is the network scale free.\n",
    "- Can you find the important players of the network?"
   ]
  },
  {
   "cell_type": "markdown",
   "metadata": {},
   "source": [
    "# Loading Packages"
   ]
  },
  {
   "cell_type": "code",
   "execution_count": 1,
   "metadata": {},
   "outputs": [],
   "source": [
    "# NetworkX\n",
    "import networkx as nx\n",
    "\n",
    "# Powerlaw\n",
    "import powerlaw\n",
    "\n",
    "# Math\n",
    "import numpy as np\n",
    "import pandas as pd\n",
    "\n",
    "# Plot\n",
    "%matplotlib inline\n",
    "import matplotlib.pyplot as plt"
   ]
  },
  {
   "cell_type": "markdown",
   "metadata": {},
   "source": [
    "# Read Data"
   ]
  },
  {
   "cell_type": "code",
   "execution_count": 2,
   "metadata": {},
   "outputs": [],
   "source": [
    "df = pd.read_csv('drosophhila_net.csv', delimiter='\\t')"
   ]
  },
  {
   "cell_type": "markdown",
   "metadata": {},
   "source": []
  },
  {
   "cell_type": "markdown",
   "metadata": {
    "pycharm": {
     "name": "#%% md\n"
    }
   },
   "source": [
    "# Homework 3\n",
    "\n",
    "1. Open the Drosophila Network already provided.\n",
    "\n",
    "2. Check the various properties of the network:\n",
    "- Is the network scale free?\n",
    "- Can you find the important players of the network?"
   ]
  },
  {
   "cell_type": "markdown",
   "metadata": {
    "pycharm": {
     "name": "#%% md\n"
    }
   },
   "source": [
    "# Loading Packages"
   ]
  },
  {
   "cell_type": "code",
   "execution_count": 5,
   "metadata": {},
   "outputs": [
    {
     "data": {
      "text/plain": [
       "3610"
      ]
     },
     "execution_count": 5,
     "metadata": {},
     "output_type": "execute_result"
    }
   ],
   "source": [
    "# NetworkX\n",
    "import networkx as nx\n",
    "\n",
    "# Powerlaw\n",
    "import powerlaw\n",
    "\n",
    "# Math\n",
    "import numpy as np\n",
    "import pandas as pd\n",
    "\n",
    "# Plot\n",
    "%matplotlib inline\n",
    "import matplotlib.pyplot as plt\n",
    "\n",
    "# Defaultdict\n",
    "from collections import defaultdict\n"
   ]
  },
  {
   "cell_type": "markdown",
   "metadata": {},
   "source": [
    "# Read Data"
   ]
  },
  {
   "cell_type": "code",
   "execution_count": 74,
   "metadata": {},
   "outputs": [],
   "source": [
    "df = pd.read_csv('drosophhila_net.csv', delimiter='\\t')"
   ]
  },
  {
   "cell_type": "markdown",
   "metadata": {
    "pycharm": {
     "name": "#%% md\n"
    }
   },
   "source": [
    "# Create Graph"
   ]
  },
  {
   "cell_type": "code",
   "execution_count": 47,
   "metadata": {},
   "outputs": [],
   "source": [
    "def create_graph(df):\n",
    "    g = nx.Graph()\n",
    "    g.add_edges_from(np.array(df.iloc[:, :2]))\n",
    "    return g"
   ]
  },
  {
   "cell_type": "code",
   "execution_count": 6,
   "metadata": {},
   "outputs": [
    {
     "ename": "NameError",
     "evalue": "name 'pl' is not defined",
     "output_type": "error",
     "traceback": [
      "\u001B[1;31m---------------------------------------------------------------------------\u001B[0m",
      "\u001B[1;31mNameError\u001B[0m                                 Traceback (most recent call last)",
      "\u001B[1;32m<ipython-input-6-f932809c5655>\u001B[0m in \u001B[0;36m<module>\u001B[1;34m\u001B[0m\n\u001B[1;32m----> 1\u001B[1;33m \u001B[0mpl\u001B[0m\u001B[1;33m.\u001B[0m\u001B[0mplot_pdf\u001B[0m\u001B[1;33m(\u001B[0m\u001B[1;33m)\u001B[0m \u001B[1;31m# (color='b', linewidth=2)\u001B[0m\u001B[1;33m\u001B[0m\u001B[1;33m\u001B[0m\u001B[0m\n\u001B[0m\u001B[0;32m      2\u001B[0m \u001B[0mpl\u001B[0m\u001B[1;33m.\u001B[0m\u001B[0mpower_law\u001B[0m\u001B[1;33m.\u001B[0m\u001B[0mplot_pdf\u001B[0m\u001B[1;33m(\u001B[0m\u001B[0mcolor\u001B[0m\u001B[1;33m=\u001B[0m\u001B[1;34m'r'\u001B[0m\u001B[1;33m,\u001B[0m \u001B[0mlinestyle\u001B[0m\u001B[1;33m=\u001B[0m\u001B[1;34m'-'\u001B[0m\u001B[1;33m)\u001B[0m\u001B[1;33m;\u001B[0m\u001B[1;33m\u001B[0m\u001B[1;33m\u001B[0m\u001B[0m\n",
      "\u001B[1;31mNameError\u001B[0m: name 'pl' is not defined"
     ]
    }
   ],
   "source": [
    "g = create_graph(df)"
   ]
  },
  {
   "cell_type": "code",
   "execution_count": 65,
   "metadata": {},
   "outputs": [
    {
     "data": {
      "text/plain": [
       "0.010339668081270115"
      ]
     },
     "execution_count": 65,
     "metadata": {},
     "output_type": "execute_result"
    }
   ],
   "source": [
    "len(g.nodes())"
   ]
  },
  {
   "cell_type": "markdown",
   "metadata": {
    "pycharm": {
     "name": "#%% md\n"
    }
   },
   "source": [
    "# Graph Visualization"
   ]
  },
  {
   "cell_type": "code",
   "metadata": {
    "pycharm": {
     "name": "#%%\n"
    }
   },
   "source": [
    "plt.figure(figsize=(10, 10))\n",
    "nx.draw(g);"
   ],
   "execution_count": null,
   "outputs": []
  },
  {
   "cell_type": "markdown",
   "metadata": {
    "pycharm": {
     "name": "#%% md\n"
    }
   },
   "source": [
    "# Is the network scale free?"
   ]
  },
  {
   "cell_type": "code",
   "execution_count": 124,
   "metadata": {
    "pycharm": {
     "name": "#%%\n"
    }
   },
   "outputs": [],
   "source": [
    "def zero():\n",
    "    return 0\n",
    "degrees = defaultdict(zero)\n",
    "for name, degree in g.degree():\n",
    "    degrees[degree] += 1\n",
    "degrees_df = pd.DataFrame([[degree, count] for degree, count in degrees.items()])\n",
    "degrees_df.columns = ['degree', 'count']\n",
    "degrees_df = degrees_df.sort_values('degree')\n",
    "degrees_df.index = degrees_df.degree\n",
    "degrees_df = degrees_df.drop(columns=['degree'])\n",
    "degrees_df.plot(kind='bar')\n",
    "plt.title('Count of Verticles by Degree')\n",
    "plt.ylabel('Count')"
   ]
  },
  {
   "cell_type": "code",
   "execution_count": 142,
   "metadata": {},
   "outputs": [
    {
     "data": {
      "text/plain": [
       "{'FBgn0000063',\n",
       " 'FBgn0000719',\n",
       " 'FBgn0003302',\n",
       " 'FBgn0003479',\n",
       " 'FBgn0004107',\n",
       " 'FBgn0004597',\n",
       " 'FBgn0005683',\n",
       " 'FBgn0010316',\n",
       " 'FBgn0011648',\n",
       " 'FBgn0013762',\n",
       " 'FBgn0016131',\n",
       " 'FBgn0024189',\n",
       " 'FBgn0024371',\n",
       " 'FBgn0025674',\n",
       " 'FBgn0026176',\n",
       " 'FBgn0026238',\n",
       " 'FBgn0026371',\n",
       " 'FBgn0027364',\n",
       " 'FBgn0027592',\n",
       " 'FBgn0028509',\n",
       " 'FBgn0030400',\n",
       " 'FBgn0030668',\n",
       " 'FBgn0031372',\n",
       " 'FBgn0031768',\n",
       " 'FBgn0031957',\n",
       " 'FBgn0033631',\n",
       " 'FBgn0034651',\n",
       " 'FBgn0035397',\n",
       " 'FBgn0035641',\n",
       " 'FBgn0036183',\n",
       " 'FBgn0036257',\n",
       " 'FBgn0036595',\n",
       " 'FBgn0036950',\n",
       " 'FBgn0036977',\n",
       " 'FBgn0037345',\n",
       " 'FBgn0037382',\n",
       " 'FBgn0039395',\n",
       " 'FBgn0039856',\n",
       " 'FBgn0039858',\n",
       " 'FBgn0042102',\n",
       " 'FBgn0045759',\n",
       " 'FBgn0259168',\n",
       " 'FBgn0263111',\n",
       " 'FBgn0265998'}"
      ]
     },
     "execution_count": 142,
     "metadata": {},
     "output_type": "execute_result"
    }
   ],
   "source": [
    "degrees_list = np.array(degrees_df.iloc[:, 0])"
   ]
  },
  {
   "cell_type": "code",
   "execution_count": null,
   "metadata": {
    "pycharm": {
     "name": "#%%\n"
    }
   },
   "outputs": [],
   "source": [
    "pl = powerlaw.Fit(\n",
    "    degrees_list,\n",
    "    xmin=1,\n",
    "    discrete=True\n",
    ")"
   ]
  },
  {
   "cell_type": "code",
   "execution_count": null,
   "outputs": [],
   "source": [
    "pl.plot_pdf()\n",
    "pl.power_law.plot_pdf();"
   ],
   "metadata": {
    "collapsed": false,
    "pycharm": {
     "name": "#%%\n"
    }
   }
  },
  {
   "cell_type": "code",
   "execution_count": null,
   "outputs": [],
   "source": [
    "pl.power_law.sigma"
   ],
   "metadata": {
    "collapsed": false,
    "pycharm": {
     "name": "#%%\n"
    }
   }
  },
  {
   "cell_type": "markdown",
   "source": [
    "Sigma is relatively small so the network is scale free."
   ],
   "metadata": {
    "collapsed": false
   }
  },
  {
   "cell_type": "markdown",
   "source": [
    "# Can you find the important players of the network?"
   ],
   "metadata": {
    "collapsed": false
   }
  },
  {
   "cell_type": "code",
   "execution_count": null,
   "outputs": [],
   "source": [
    "def get_best(G, k=5, rank=nx.algorithms.centrality.degree_centrality):\n",
    "    \"\"\"get_best\n",
    "\n",
    "    \"\"\"\n",
    "\n",
    "    ranking = rank(G)\n",
    "\n",
    "    keys   = np.array(list(ranking.keys()))\n",
    "    values = np.array(list(ranking.values()))\n",
    "\n",
    "    return keys[np.argsort(values)[-k:]]"
   ],
   "metadata": {
    "collapsed": false,
    "pycharm": {
     "name": "#%%\n"
    }
   }
  },
  {
   "cell_type": "code",
   "execution_count": null,
   "outputs": [],
   "source": [
    "k = 10"
   ],
   "metadata": {
    "collapsed": false,
    "pycharm": {
     "name": "#%%\n"
    }
   }
  },
  {
   "cell_type": "code",
   "execution_count": null,
   "outputs": [],
   "source": [
    "get_best(g, k=k)"
   ],
   "metadata": {
    "collapsed": false,
    "pycharm": {
     "name": "#%%\n"
    }
   }
  },
  {
   "cell_type": "markdown",
   "source": [
    "We can find for example 10 most important players using degree centrality measure.\n"
   ],
   "metadata": {
    "collapsed": false
   }
  }
 ],
 "metadata": {
  "kernelspec": {
   "display_name": "Python 3",
   "language": "python",
   "name": "python3"
  },
  "language_info": {
   "codemirror_mode": {
    "name": "ipython",
    "version": 3
   },
   "file_extension": ".py",
   "mimetype": "text/x-python",
   "name": "python",
   "nbconvert_exporter": "python",
   "pygments_lexer": "ipython3",
   "version": "3.8.3"
  }
 },
 "nbformat": 4,
 "nbformat_minor": 4
}