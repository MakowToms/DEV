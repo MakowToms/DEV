{
 "cells": [
  {
   "cell_type": "markdown",
   "metadata": {},
   "source": [
    "# Homework 4\n",
    "\n",
    "1. Open the drosophila network.\n",
    "2. Run the MCODE algorithm.\n",
    "3. Run the MCL algorithm. Compare the resultsb. Are there some filtering optionsc. Play with the settings and observe the influence."
   ]
  },
  {
   "cell_type": "code",
   "execution_count": 1,
   "metadata": {},
   "outputs": [],
   "source": [
    "# NetworkX\n",
    "import networkx as nx\n",
    "\n",
    "# Math\n",
    "import numpy as np\n",
    "import pandas as pd\n",
    "\n",
    "# Plot\n",
    "%matplotlib inline\n",
    "import matplotlib.pyplot as plt"
   ]
  },
  {
   "cell_type": "markdown",
   "metadata": {},
   "source": [
    "# MCODE"
   ]
  },
  {
   "cell_type": "code",
   "execution_count": null,
   "metadata": {},
   "outputs": [],
   "source": []
  },
  {
   "cell_type": "markdown",
   "metadata": {},
   "source": [
    "We used Cytoscape with clusterMaker app and runned MCL and MCODE. All Images show clusters with number of elements greater than 6. We achieved that by using topological filter to find nodes with at least 6 neighbours in distance 5."
   ]
  },
  {
   "cell_type": "markdown",
   "metadata": {},
   "source": [
    "<div>\n",
    "<img src=\"drosophhila_net.csv--clustered--cut02.png\".png\"/>\n",
    "<center>MCODE for cutoff=0.2 </center>\n",
    "</div>"
   ]
  },
  {
   "cell_type": "markdown",
   "metadata": {},
   "source": [
    "<div>\n",
    "<img src=\"drosophhila_net.csv--clustered--cut04.png\".png\"/>\n",
    "<center>MCODE for cutoff=0.4 </center>\n",
    "</div>"
   ]
  },
  {
   "cell_type": "markdown",
   "metadata": {},
   "source": [
    "<div>\n",
    "    <img src=\"drosophhila_net.csv--clustered-mcl-2.5.png\"/>\n",
    "<center>MCL for granularity=2.5 </center>\n",
    "</div>"
   ]
  },
  {
   "cell_type": "markdown",
   "metadata": {},
   "source": [
    "<div>\n",
    "<img src=\"drosophhila_net.csv--clustered-mcl-1-5.png\"/>\n",
    "<center>MCL for granularity=1.5 </center>\n",
    "</div>"
   ]
  },
  {
   "cell_type": "markdown",
   "metadata": {},
   "source": [
    "As we can see the MCL finds more big clusters than MCODE. By increasing cutoff for MCODE we achieved bigger network. By increasing granularity for MCL we found less clusters but more nodes overall went to one big cluster. "
   ]
  },
  {
   "cell_type": "code",
   "execution_count": null,
   "metadata": {},
   "outputs": [],
   "source": []
  }
 ],
 "metadata": {
  "kernelspec": {
   "display_name": "Python 3",
   "language": "python",
   "name": "python3"
  },
  "language_info": {
   "codemirror_mode": {
    "name": "ipython",
    "version": 3
   },
   "file_extension": ".py",
   "mimetype": "text/x-python",
   "name": "python",
   "nbconvert_exporter": "python",
   "pygments_lexer": "ipython3",
   "version": "3.8.3"
  }
 },
 "nbformat": 4,
 "nbformat_minor": 4
}
