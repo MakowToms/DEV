{
 "cells": [
  {
   "cell_type": "markdown",
   "metadata": {},
   "source": [
    "# Homework 2\n",
    "\n",
    "* Solve the Questions from the slide “Network Centrality”."
   ]
  },
  {
   "cell_type": "markdown",
   "metadata": {},
   "source": [
    "# 1. Which nodes are most central?\n",
    "\n",
    "In general, there is no concreate definition of centrality. The notion of centrality arises from a value function, that gives a value to each vertex. One possible valuation would be to assign degrees with big degrees as the central ones. From another point of view, a bridge (vertex, which removed would cause the graph to split) is central, since it is required to be able to traverse the graph from one side to the other.\n",
    "\n",
    "# 2. How evenly is centrality distributed among nodes?\n",
    "\n",
    "It vastly depends on the graph structure. For instance, for trees we have each node is the only one that connects its subtrees to the rest of the tree. In that sense, the root of a balanced tree is the most central, while leaves are least.\n",
    "\n",
    "On the other hand, full graphs are symmetric and if we characterise nodes solely on the graph topology, this means, that value for each node should be equal.\n",
    "\n",
    "One way of measuring distribution of centrality is Hyperlink-Induced Topic Search (HITS) algorithm. In a graph we recognise \"Hubs\" - nodes that have many edges, that point out of it, and \"Authorities\" - nodes that have many edges, that point to them. For other nodes we calculate proximity to the most important nodes in a graph."
   ]
  },
  {
   "cell_type": "code",
   "execution_count": null,
   "metadata": {},
   "outputs": [],
   "source": []
  }
 ],
 "metadata": {
  "kernelspec": {
   "display_name": "Python 3",
   "language": "python",
   "name": "python3"
  },
  "language_info": {
   "codemirror_mode": {
    "name": "ipython",
    "version": 3
   },
   "file_extension": ".py",
   "mimetype": "text/x-python",
   "name": "python",
   "nbconvert_exporter": "python",
   "pygments_lexer": "ipython3",
   "version": "3.8.3"
  }
 },
 "nbformat": 4,
 "nbformat_minor": 4
}