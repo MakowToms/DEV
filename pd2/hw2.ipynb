{
  "nbformat": 4,
  "nbformat_minor": 0,
  "metadata": {
    "colab": {
      "name": "BioTWD_hw4_2.ipynb",
      "provenance": [],
      "collapsed_sections": []
    },
    "kernelspec": {
      "name": "python3",
      "display_name": "Python 3"
    },
    "language_info": {
      "name": "python"
    }
  },
  "cells": [
    {
      "cell_type": "code",
      "metadata": {
        "id": "dxwtIPPHR3nI"
      },
      "source": [
        "from networkx import *\n",
        "import matplotlib.pyplot as plt"
      ],
      "execution_count": null,
      "outputs": []
    },
    {
      "cell_type": "code",
      "metadata": {
        "id": "nABPJqHrSjFT"
      },
      "source": [
        "G = Graph()\n",
        "G.add_edges_from([(\"A\", \"B\"), (\"B\", \"C\"), (\"B\", \"D\"), (\"C\", \"E\"), (\"D\", \"E\")])"
      ],
      "execution_count": null,
      "outputs": []
    },
    {
      "cell_type": "code",
      "metadata": {
        "colab": {
          "base_uri": "https://localhost:8080/",
          "height": 319
        },
        "id": "e162yxmhSzCc",
        "outputId": "122632f7-8ee8-4247-96fb-5c91356a44a4"
      },
      "source": [
        "draw(G, with_labels=True, font_weight='bold')"
      ],
      "execution_count": null,
      "outputs": [
        {
          "output_type": "display_data",
          "data": {
            "image/png": "[encoded data removed]",
            "text/plain": [
              "<Figure size 432x288 with 1 Axes>"
            ]
          },
          "metadata": {
            "tags": []
          }
        }
      ]
    },
    {
      "cell_type": "markdown",
      "metadata": {
        "id": "8r3RK4sSTAGV"
      },
      "source": [
        "We can see that this is the same graph as the one on the slide."
      ]
    },
    {
      "cell_type": "code",
      "metadata": {
        "colab": {
          "base_uri": "https://localhost:8080/"
        },
        "id": "HSmdVc6zTHN7",
        "outputId": "f20377fb-cf12-4570-86b0-d3581a6aaa9f"
      },
      "source": [
        "betweenness_centrality(G, normalized=False)"
      ],
      "execution_count": null,
      "outputs": [
        {
          "output_type": "execute_result",
          "data": {
            "text/plain": [
              "{'A': 0.0, 'B': 3.5, 'C': 1.0, 'D': 1.0, 'E': 0.5}"
            ]
          },
          "metadata": {
            "tags": []
          },
          "execution_count": 6
        }
      ]
    },
    {
      "cell_type": "markdown",
      "metadata": {
        "id": "7gkK2CdBTU7O"
      },
      "source": [
        "Betweenness is also the same."
      ]
    },
    {
      "cell_type": "code",
      "metadata": {
        "colab": {
          "base_uri": "https://localhost:8080/"
        },
        "id": "dlA2a3ZfTYb9",
        "outputId": "efe1a00e-fc0e-4572-be9f-d7108d172f5e"
      },
      "source": [
        "list(all_shortest_paths(G, source=\"C\", target=\"D\"))"
      ],
      "execution_count": null,
      "outputs": [
        {
          "output_type": "execute_result",
          "data": {
            "text/plain": [
              "[['C', 'B', 'D'], ['C', 'E', 'D']]"
            ]
          },
          "metadata": {
            "tags": []
          },
          "execution_count": 14
        }
      ]
    },
    {
      "cell_type": "markdown",
      "metadata": {
        "id": "HVI_YSxgUcZ7"
      },
      "source": [
        "The reason is that there are two equally shortest paths between C and D: C-B-D and C-E-D. Thus B and E get half a point each."
      ]
    },
    {
      "cell_type": "code",
      "metadata": {
        "colab": {
          "base_uri": "https://localhost:8080/"
        },
        "id": "ao43N2ZkUtKx",
        "outputId": "11939cf0-f1b3-45f3-b2c2-76c751de0213"
      },
      "source": [
        "list(all_shortest_paths(G, source=\"A\", target=\"E\"))"
      ],
      "execution_count": null,
      "outputs": [
        {
          "output_type": "execute_result",
          "data": {
            "text/plain": [
              "[['A', 'B', 'C', 'E'], ['A', 'B', 'D', 'E']]"
            ]
          },
          "metadata": {
            "tags": []
          },
          "execution_count": 17
        }
      ]
    },
    {
      "cell_type": "code",
      "metadata": {
        "colab": {
          "base_uri": "https://localhost:8080/"
        },
        "id": "LqCzBd4wUxuy",
        "outputId": "4a8a32e1-d4bc-4480-999e-3dfcb5d5420f"
      },
      "source": [
        "list(all_shortest_paths(G, source=\"B\", target=\"E\"))"
      ],
      "execution_count": null,
      "outputs": [
        {
          "output_type": "execute_result",
          "data": {
            "text/plain": [
              "[['B', 'C', 'E'], ['B', 'D', 'E']]"
            ]
          },
          "metadata": {
            "tags": []
          },
          "execution_count": 18
        }
      ]
    },
    {
      "cell_type": "markdown",
      "metadata": {
        "id": "RHt-8yeKUzf7"
      },
      "source": [
        "The two above prove the explanation provided for the same phenomenon for C and D."
      ]
    }
  ]
}