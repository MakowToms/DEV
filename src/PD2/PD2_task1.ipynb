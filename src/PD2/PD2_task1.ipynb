{
 "cells": [
  {
   "cell_type": "markdown",
   "metadata": {},
   "source": [
    "# <center> <b> NEEDLEMAN-WUNSCH ALGORITHM"
   ]
  },
  {
   "cell_type": "code",
   "execution_count": 3,
   "metadata": {},
   "outputs": [],
   "source": [
    "import numpy as np"
   ]
  },
  {
   "cell_type": "markdown",
   "metadata": {},
   "source": [
    "# Implementation"
   ]
  },
  {
   "cell_type": "code",
   "execution_count": 4,
   "metadata": {},
   "outputs": [],
   "source": [
    "def needleman_wunsch(seq1, seq2, match_award=1, gap_penalty=-1, mismatch_penalty=-1):\n",
    "    \"\"\"needleman_wunsch\n",
    "    \n",
    "    Args:\n",
    "    * seq1: string - first sequence as string\n",
    "    * seq2: string - second sequence as string\n",
    "    \n",
    "    Params:\n",
    "    * match_award: int = 1  - award for matching atom\n",
    "    * gap_penalty: int = -1 - penalty for inserting a gap\n",
    "    * mismatch_penalty: int = -1 - penalty for mismatch\n",
    "    \n",
    "    Returns:\n",
    "    * score matrix: np.array\n",
    "    * (trace1, trace2) - strings with gaps representing the best fit,\n",
    "                         corresponding to two given sequences. \n",
    "    \"\"\"\n",
    "    \n",
    "    \n",
    "    # Returns reward if a and b are equal, and penalty otherwise \n",
    "    def match_score(a, b):\n",
    "        if a == b:\n",
    "            return match_award\n",
    "        elif a == '-' or b == '-':\n",
    "            return gap_penalty\n",
    "        else:\n",
    "            return mismatch_penalty\n",
    "    \n",
    "    ### Generate Score Matrix\n",
    "    \n",
    "    # Params\n",
    "    n = len(seq1)\n",
    "    m = len(seq2)  \n",
    "    \n",
    "    # Score Matrix\n",
    "    score = np.zeros((m+1, n+1)).astype(int)\n",
    "   \n",
    "    # Set First Column\n",
    "    for i in range(m + 1):\n",
    "        score[i,0] = gap_penalty * i\n",
    "    \n",
    "    # Set First Row\n",
    "    for j in range(0, n + 1):\n",
    "        score[0,j] = gap_penalty * j\n",
    "    \n",
    "    # Set Rest of the Score Matrix\n",
    "    for i in range(1, m + 1):\n",
    "        for j in range(1, n + 1):\n",
    "            diag = score[i - 1,j - 1] + match_score(seq1[j-1], seq2[i-1])\n",
    "            up = score[i - 1,j] + gap_penalty\n",
    "            left = score[i,j - 1] + gap_penalty\n",
    "            score[i,j] = max(diag, left, up)\n",
    "    \n",
    "    ### Trace Back\n",
    "    \n",
    "    # Start from the left down corner\n",
    "    i = score.shape[0] - 1\n",
    "    j = score.shape[1] - 1\n",
    "    \n",
    "    # Traces\n",
    "    trace1 = []\n",
    "    trace2 = []\n",
    "    \n",
    "    # Find Paths\n",
    "    while i > 0 or j > 0:\n",
    "    \n",
    "        # Diagonal\n",
    "        if not (i > 0 and j > 0):\n",
    "            diag = - np.inf\n",
    "        else:\n",
    "            diag = score[i - 1,j - 1] + match_score(seq1[j-1], seq2[i-1])\n",
    "        \n",
    "        # Left\n",
    "        if not (j > 0):\n",
    "            left = - np.inf\n",
    "        else:\n",
    "            left = score[i,j - 1] + gap_penalty\n",
    "        \n",
    "        # Up\n",
    "        if not (i > 0):\n",
    "            up = - np.inf\n",
    "        else:\n",
    "            up = score[i - 1,j] + gap_penalty\n",
    "        \n",
    "        # Max Score\n",
    "        m = max(diag, left, up)\n",
    "        \n",
    "        # Cases\n",
    "        if diag == m:\n",
    "            trace1.append(seq1[j-1])\n",
    "            trace2.append(seq2[i-1])\n",
    "            i -= 1\n",
    "            j -= 1\n",
    "        elif left == m:\n",
    "            trace1.append(seq1[j-1])\n",
    "            trace2.append(\"-\")\n",
    "            j -= 1\n",
    "        elif up == m:\n",
    "            trace1.append(\"-\")\n",
    "            trace2.append(seq2[i-1])\n",
    "            i -= 1\n",
    "\n",
    "    return score, (trace1[::-1], trace2[::-1])"
   ]
  },
  {
   "cell_type": "markdown",
   "metadata": {},
   "source": [
    "# Example"
   ]
  },
  {
   "cell_type": "code",
   "execution_count": 5,
   "metadata": {},
   "outputs": [
    {
     "name": "stdout",
     "output_type": "stream",
     "text": [
      "[[ 0 -1 -2 -3 -4 -5 -6 -7]\n",
      " [-1  1  0 -1 -2 -3 -4 -5]\n",
      " [-2  0  0  1  0 -1 -2 -3]\n",
      " [-3 -1 -1  0  2  1  0 -1]\n",
      " [-4 -2 -2 -1  1  1  0 -1]\n",
      " [-5 -3 -3 -1  0  0  0 -1]\n",
      " [-6 -4 -2 -2 -1 -1  1  0]\n",
      " [-7 -5 -3 -1 -2 -2  0  0]]\n",
      "['G', 'C', 'A', '-', 'T', 'G', 'C', 'U']\n",
      "['G', '-', 'A', 'T', 'T', 'A', 'C', 'A']\n"
     ]
    }
   ],
   "source": [
    "match_award=1 \n",
    "gap_penalty=-1\n",
    "mismatch_penalty=-1\n",
    "\n",
    "seq1 = \"GCATGCU\"\n",
    "seq2 = \"GATTACA\"\n",
    "\n",
    "matrix, traces = needleman_wunsch(seq1, seq2, match_award, gap_penalty, mismatch_penalty)\n",
    "\n",
    "print(matrix)\n",
    "print(traces[0])\n",
    "print(traces[1])"
   ]
  }
 ],
 "metadata": {
  "kernelspec": {
   "display_name": "Python 3",
   "language": "python",
   "name": "python3"
  },
  "language_info": {
   "codemirror_mode": {
    "name": "ipython",
    "version": 3
   },
   "file_extension": ".py",
   "mimetype": "text/x-python",
   "name": "python",
   "nbconvert_exporter": "python",
   "pygments_lexer": "ipython3",
   "version": "3.8.3"
  }
 },
 "nbformat": 4,
 "nbformat_minor": 4
}
