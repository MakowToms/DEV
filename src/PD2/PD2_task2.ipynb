{
 "cells": [
  {
   "cell_type": "code",
   "execution_count": 1,
   "id": "british-event",
   "metadata": {},
   "outputs": [],
   "source": [
    "import numpy as np"
   ]
  },
  {
   "cell_type": "code",
   "execution_count": 28,
   "id": "czech-number",
   "metadata": {},
   "outputs": [],
   "source": [
    "def smith_waterman(seq1, seq2, match_award=1, gap_penalty=-1, mismatch_penalty=-1):\n",
    "\n",
    "    def match_score(a, b):\n",
    "        if a == b:\n",
    "            return match_award\n",
    "        elif a == '-' or b == '-':\n",
    "            return gap_penalty\n",
    "        else:\n",
    "            return mismatch_penalty\n",
    "\n",
    "    n = len(seq1)\n",
    "    m = len(seq2)  \n",
    "    \n",
    "    score = np.zeros((m+1, n+1)).astype(int)\n",
    "   \n",
    "    for i in range(0, m + 1):\n",
    "        score[i,0] = 0\n",
    "    \n",
    "    for j in range(0, n + 1):\n",
    "        score[0,j] = 0\n",
    "    \n",
    "    for i in range(1, m + 1):\n",
    "        for j in range(1, n + 1):\n",
    "            diag = score[i - 1,j - 1] + match_score(seq1[j-1], seq2[i-1])\n",
    "            up = score[i - 1,j] + gap_penalty\n",
    "            left = score[i,j - 1] + gap_penalty\n",
    "            score[i,j] = max(diag, left, up, 0)\n",
    "            \n",
    "    i, j = np.unravel_index(np.argmax(score), score.shape)\n",
    "    trace1 = []\n",
    "    trace2 = []\n",
    "    m = 1\n",
    "    while i > 0 or j > 0:\n",
    "        diag = score[i - 1,j - 1] + match_score(seq1[j-1], seq2[i-1])\n",
    "        up = score[i - 1,j] + gap_penalty\n",
    "        left = score[i,j - 1] + gap_penalty\n",
    "#         print((diag, up, left))\n",
    "\n",
    "        if not (i > 0 and j > 0):\n",
    "            diag = - np.inf\n",
    "        if not (j > 0):\n",
    "            left = - np.inf\n",
    "        if not (i > 0):\n",
    "            up = - np.inf\n",
    "        \n",
    "        m = max(diag, left, up, 0)\n",
    "        \n",
    "        if m == 0: break\n",
    "        \n",
    "        if diag == m:\n",
    "            trace1.append(seq1[j-1])\n",
    "            trace2.append(seq2[i-1])\n",
    "            i -= 1\n",
    "            j -= 1\n",
    "        elif left == m:\n",
    "            trace1.append(seq1[j-1])\n",
    "            trace2.append(\"-\")\n",
    "            j -= 1\n",
    "        elif up == m:\n",
    "            trace1.append(\"-\")\n",
    "            trace2.append(seq2[i-1])\n",
    "            i -= 1\n",
    "\n",
    "    return score, (trace1[::-1], trace2[::-1])"
   ]
  },
  {
   "cell_type": "code",
   "execution_count": 46,
   "id": "personalized-preview",
   "metadata": {},
   "outputs": [
    {
     "name": "stdout",
     "output_type": "stream",
     "text": [
      "[[0 0 0 0 0 0 0 0 0 0 0 0]\n",
      " [0 2 0 0 0 0 0 0 2 0 0 0]\n",
      " [0 2 1 0 0 0 0 0 2 1 0 0]\n",
      " [0 0 4 3 1 0 0 2 0 1 0 2]\n",
      " [0 0 2 3 5 3 1 0 1 2 3 1]\n",
      " [0 0 0 1 3 4 5 3 1 0 1 2]\n",
      " [0 2 0 0 1 2 3 4 5 3 1 0]\n",
      " [0 0 4 2 0 0 1 5 3 4 2 3]]\n",
      "['G', 'A', 'A', 'T']\n",
      "['G', 'G', 'A', 'T']\n"
     ]
    }
   ],
   "source": [
    "match_award=2\n",
    "gap_penalty=-2\n",
    "mismatch_penalty=-1\n",
    "\n",
    "seq1 = \"GAATTCAGTTA\"\n",
    "seq2 = \"GGATCGA\"\n",
    "\n",
    "matrix, traces = smith_waterman(seq1, seq2, match_award, gap_penalty, mismatch_penalty)\n",
    "\n",
    "print(matrix)\n",
    "print(traces[0])\n",
    "print(traces[1])"
   ]
  },
  {
   "cell_type": "code",
   "execution_count": 47,
   "id": "indian-minister",
   "metadata": {},
   "outputs": [
    {
     "data": {
      "text/plain": [
       "(array([4, 5, 6, 7], dtype=int64), array([4, 6, 8, 7], dtype=int64))"
      ]
     },
     "execution_count": 47,
     "metadata": {},
     "output_type": "execute_result"
    }
   ],
   "source": [
    "np.where(matrix == np.max(matrix))"
   ]
  },
  {
   "cell_type": "code",
   "execution_count": 31,
   "id": "roman-german",
   "metadata": {},
   "outputs": [],
   "source": [
    "import swalign"
   ]
  },
  {
   "cell_type": "code",
   "execution_count": 48,
   "id": "qualified-congress",
   "metadata": {},
   "outputs": [
    {
     "name": "stdout",
     "output_type": "stream",
     "text": [
      "Query: 1 GGATCGA 7\n",
      "         |.||..|\n",
      "Ref  : 1 GAATTCA 7\n",
      "\n",
      "Score: 5\n",
      "Matches: 4 (57.1%)\n",
      "Mismatches: 3\n",
      "CIGAR: 7M\n"
     ]
    }
   ],
   "source": [
    "# choose your own values here… 2 and -1 are common.\n",
    "match = 2\n",
    "mismatch = -1\n",
    "scoring = swalign.NucleotideScoringMatrix(match, mismatch)\n",
    "\n",
    "sw = swalign.LocalAlignment(scoring, gap_penalty=-2)  # you can also choose gap penalties, etc...\n",
    "alignment = sw.align(seq1,seq2)\n",
    "alignment.dump()"
   ]
  },
  {
   "cell_type": "code",
   "execution_count": 35,
   "id": "included-background",
   "metadata": {},
   "outputs": [],
   "source": [
    "?swalign.NucleotideScoringMatrix"
   ]
  }
 ],
 "metadata": {
  "kernelspec": {
   "display_name": "Python 3",
   "language": "python",
   "name": "python3"
  },
  "language_info": {
   "codemirror_mode": {
    "name": "ipython",
    "version": 3
   },
   "file_extension": ".py",
   "mimetype": "text/x-python",
   "name": "python",
   "nbconvert_exporter": "python",
   "pygments_lexer": "ipython3",
   "version": "3.9.2"
  }
 },
 "nbformat": 4,
 "nbformat_minor": 5
}
