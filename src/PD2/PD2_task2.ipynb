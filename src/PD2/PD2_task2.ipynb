{
 "cells": [
  {
   "cell_type": "markdown",
   "id": "severe-stupid",
   "metadata": {},
   "source": [
    "# <center> <b> SMITH-WATERMAN ALGORITHM"
   ]
  },
  {
   "cell_type": "code",
   "execution_count": 11,
   "id": "pacific-combine",
   "metadata": {},
   "outputs": [],
   "source": [
    "import numpy as np"
   ]
  },
  {
   "cell_type": "markdown",
   "id": "automotive-nebraska",
   "metadata": {},
   "source": [
    "# Implementation"
   ]
  },
  {
   "cell_type": "code",
   "execution_count": 12,
   "id": "delayed-basis",
   "metadata": {},
   "outputs": [],
   "source": [
    "def smith_waterman(seq1, seq2, match_award=1, gap_penalty=-1, mismatch_penalty=-1):\n",
    "    \"\"\"smith_waterman\n",
    "    \n",
    "    Args:\n",
    "    * seq1: string - first sequence as string\n",
    "    * seq2: string - second sequence as string\n",
    "    \n",
    "    Params:\n",
    "    * match_award: int = 1  - award for matching atom\n",
    "    * gap_penalty: int = -1 - penalty for inserting a gap\n",
    "    * mismatch_penalty: int = -1 - penalty for mismatch\n",
    "    \n",
    "    Returns:\n",
    "    * score matrix: np.array\n",
    "    * (trace1, trace2) - strings with gaps representing the best matching subsequence,\n",
    "                         corresponding to two given sequences. \n",
    "    \"\"\"\n",
    "    \n",
    "    # Returns reward if a and b are equal, and penalty otherwise \n",
    "    def match_score(a, b):\n",
    "        if a == b:\n",
    "            return match_award\n",
    "        elif a == '-' or b == '-':\n",
    "            return gap_penalty\n",
    "        else:\n",
    "            return mismatch_penalty\n",
    "\n",
    "    ### Generate Score Matrix\n",
    "    \n",
    "    # Params\n",
    "    n = len(seq1)\n",
    "    m = len(seq2)  \n",
    "    \n",
    "    # Score Matrix\n",
    "    score = np.zeros((m+1, n+1)).astype(int)\n",
    "   \n",
    "    # Set First Column\n",
    "    for i in range(0, m + 1):\n",
    "        score[i,0] = 0\n",
    "    \n",
    "    # Set First Row\n",
    "    for j in range(0, n + 1):\n",
    "        score[0,j] = 0\n",
    "    \n",
    "    # Set Rest of the Score Matrix\n",
    "    for i in range(1, m + 1):\n",
    "        for j in range(1, n + 1):\n",
    "            diag = score[i - 1,j - 1] + match_score(seq1[j-1], seq2[i-1])\n",
    "            up = score[i - 1,j] + gap_penalty\n",
    "            left = score[i,j - 1] + gap_penalty\n",
    "            score[i,j] = max(diag, left, up, 0)\n",
    "    \n",
    "    ### Trace Back\n",
    "    \n",
    "    # Start from the highest value\n",
    "    i, j = np.unravel_index(np.argmax(score), score.shape)\n",
    "    \n",
    "    # Traces\n",
    "    trace1 = []\n",
    "    trace2 = []\n",
    "    \n",
    "    # Find Paths\n",
    "    m = 1\n",
    "    while i > 0 or j > 0:\n",
    "        \n",
    "        # Diagonal\n",
    "        if not (i > 0 and j > 0):\n",
    "            diag = - np.inf\n",
    "        else:\n",
    "            diag = score[i - 1,j - 1] + match_score(seq1[j-1], seq2[i-1])\n",
    "        \n",
    "        # Left\n",
    "        if not (j > 0):\n",
    "            left = - np.inf\n",
    "        else:\n",
    "            left = score[i,j - 1] + gap_penalty\n",
    "        \n",
    "        # Up\n",
    "        if not (i > 0):\n",
    "            up = - np.inf\n",
    "        else:\n",
    "            up = score[i - 1,j] + gap_penalty\n",
    "        \n",
    "        # Max Score\n",
    "        m = max(diag, left, up, 0)\n",
    "        \n",
    "        # Stop on 0\n",
    "        if m == 0: break\n",
    "        \n",
    "        # Cases\n",
    "        if diag == m:\n",
    "            trace1.append(seq1[j-1])\n",
    "            trace2.append(seq2[i-1])\n",
    "            i -= 1\n",
    "            j -= 1\n",
    "        elif left == m:\n",
    "            trace1.append(seq1[j-1])\n",
    "            trace2.append(\"-\")\n",
    "            j -= 1\n",
    "        elif up == m:\n",
    "            trace1.append(\"-\")\n",
    "            trace2.append(seq2[i-1])\n",
    "            i -= 1\n",
    "\n",
    "    return score, (trace1[::-1], trace2[::-1])"
   ]
  },
  {
   "cell_type": "markdown",
   "id": "foster-martin",
   "metadata": {},
   "source": [
    "# Example"
   ]
  },
  {
   "cell_type": "code",
   "execution_count": 13,
   "id": "understanding-greek",
   "metadata": {},
   "outputs": [
    {
     "name": "stdout",
     "output_type": "stream",
     "text": [
      "[[0 0 0 0 0 0 0 0 0 0 0 0]\n",
      " [0 2 0 0 0 0 0 0 2 0 0 0]\n",
      " [0 2 1 0 0 0 0 0 2 1 0 0]\n",
      " [0 0 4 3 1 0 0 2 0 1 0 2]\n",
      " [0 0 2 3 5 3 1 0 1 2 3 1]\n",
      " [0 0 0 1 3 4 5 3 1 0 1 2]\n",
      " [0 2 0 0 1 2 3 4 5 3 1 0]\n",
      " [0 0 4 2 0 0 1 5 3 4 2 3]]\n",
      "['G', 'A', 'A', 'T']\n",
      "['G', 'G', 'A', 'T']\n"
     ]
    }
   ],
   "source": [
    "match_award=2\n",
    "gap_penalty=-2\n",
    "mismatch_penalty=-1\n",
    "\n",
    "seq1 = \"GAATTCAGTTA\"\n",
    "seq2 = \"GGATCGA\"\n",
    "\n",
    "matrix, traces = smith_waterman(seq1, seq2, match_award, gap_penalty, mismatch_penalty)\n",
    "\n",
    "print(matrix)\n",
    "print(traces[0])\n",
    "print(traces[1])"
   ]
  }
 ],
 "metadata": {
  "kernelspec": {
   "display_name": "Python 3",
   "language": "python",
   "name": "python3"
  },
  "language_info": {
   "codemirror_mode": {
    "name": "ipython",
    "version": 3
   },
   "file_extension": ".py",
   "mimetype": "text/x-python",
   "name": "python",
   "nbconvert_exporter": "python",
   "pygments_lexer": "ipython3",
   "version": "3.8.3"
  }
 },
 "nbformat": 4,
 "nbformat_minor": 5
}
