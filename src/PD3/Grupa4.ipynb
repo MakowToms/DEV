{
 "cells": [
  {
   "cell_type": "code",
   "execution_count": 80,
   "id": "expired-drunk",
   "metadata": {},
   "outputs": [],
   "source": [
    "from Bio import pairwise2\n",
    "import numpy as np"
   ]
  },
  {
   "cell_type": "code",
   "execution_count": 81,
   "id": "illegal-accordance",
   "metadata": {},
   "outputs": [],
   "source": [
    "def distmat(sequences):\n",
    "    return np.array([[pairwise2.align.globalxs(s1, s2, -1, -1)[0].score for s1 in sequences] for s2 in sequences])"
   ]
  },
  {
   "cell_type": "code",
   "execution_count": 30,
   "id": "committed-secretary",
   "metadata": {},
   "outputs": [
    {
     "data": {
      "text/plain": [
       "array([[4., 1., 0.],\n",
       "       [1., 4., 1.],\n",
       "       [0., 1., 3.]])"
      ]
     },
     "execution_count": 30,
     "metadata": {},
     "output_type": "execute_result"
    }
   ],
   "source": [
    "distmat(['ACGT', 'GCTA', 'ATA'])"
   ]
  },
  {
   "cell_type": "code",
   "execution_count": 103,
   "id": "homeless-operator",
   "metadata": {},
   "outputs": [],
   "source": [
    "def cluster(dm):\n",
    "    assert dm.shape[0] == dm.shape[1]\n",
    "    \n",
    "    h = [([i],1) for i in range(dm.shape[0])]\n",
    "    \n",
    "    for it in range(dm.shape[0]-1):\n",
    "        \n",
    "        n = dm.shape[0]\n",
    "        amax = np.argmax(dm - np.diag(np.ones(n)*float('inf')))\n",
    "        \n",
    "        i = amax // n\n",
    "        j = amax % n\n",
    "        \n",
    "        # Update distance matrix\n",
    "        dm[i] = (h[i][1] * dm[i] + h[j][1] * dm[j])/(h[i][1] + h[j][1])\n",
    "        dm[:,i] = dm[i]\n",
    "        \n",
    "        dm = dm[(np.arange(n) != j), :][:, (np.arange(n) != j)]\n",
    "        \n",
    "        # Update structure\n",
    "        h[i] = ([h[i][0], h[j][0]], h[i][1] + h[j][1])\n",
    "        h.pop(j)\n",
    "        \n",
    "    return h[0][0]"
   ]
  },
  {
   "cell_type": "code",
   "execution_count": 104,
   "id": "played-rachel",
   "metadata": {},
   "outputs": [
    {
     "name": "stdout",
     "output_type": "stream",
     "text": [
      "[[2.5 0.5]\n",
      " [0.5 3. ]]\n",
      "[([[0], [1]], 2), ([2], 1)]\n",
      "[[1.83333333]]\n",
      "[([[[0], [1]], [2]], 3)]\n"
     ]
    },
    {
     "data": {
      "text/plain": [
       "[[[0], [1]], [2]]"
      ]
     },
     "execution_count": 104,
     "metadata": {},
     "output_type": "execute_result"
    }
   ],
   "source": [
    "cluster(distmat(['ACGT', 'GCTA', 'ATA']))"
   ]
  },
  {
   "cell_type": "code",
   "execution_count": null,
   "id": "competitive-statistics",
   "metadata": {},
   "outputs": [],
   "source": []
  }
 ],
 "metadata": {
  "kernelspec": {
   "display_name": "Python 3",
   "language": "python",
   "name": "python3"
  },
  "language_info": {
   "codemirror_mode": {
    "name": "ipython",
    "version": 3
   },
   "file_extension": ".py",
   "mimetype": "text/x-python",
   "name": "python",
   "nbconvert_exporter": "python",
   "pygments_lexer": "ipython3",
   "version": "3.8.3"
  }
 },
 "nbformat": 4,
 "nbformat_minor": 5
}
