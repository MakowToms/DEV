{
 "cells": [
  {
   "cell_type": "code",
   "execution_count": 231,
   "id": "associate-shore",
   "metadata": {},
   "outputs": [],
   "source": [
    "from sklearn.manifold import MDS, TSNE\n",
    "import numpy as np\n",
    "import matplotlib.pyplot as plt\n",
    "import pandas as pd"
   ]
  },
  {
   "cell_type": "code",
   "execution_count": 112,
   "id": "cardiac-small",
   "metadata": {},
   "outputs": [],
   "source": [
    "df = pd.read_csv(\"./df_ordered_top50.csv\", sep=';')"
   ]
  },
  {
   "cell_type": "code",
   "execution_count": 113,
   "id": "static-intensity",
   "metadata": {},
   "outputs": [],
   "source": [
    "dfbb = df.value_counts(['hero1_nick', 'hero2_nick']).rename('counts')"
   ]
  },
  {
   "cell_type": "code",
   "execution_count": 114,
   "id": "architectural-performance",
   "metadata": {},
   "outputs": [
    {
     "data": {
      "text/plain": [
       "744"
      ]
     },
     "execution_count": 114,
     "metadata": {},
     "output_type": "execute_result"
    }
   ],
   "source": [
    "dfbb['HUMAN TORCH','THING']"
   ]
  },
  {
   "cell_type": "code",
   "execution_count": 115,
   "id": "terminal-developer",
   "metadata": {},
   "outputs": [
    {
     "data": {
      "text/plain": [
       "hero1_nick            hero2_nick          \n",
       "HUMAN TORCH           THING                   744\n",
       "                      MR. FANTASTIC           713\n",
       "MR. FANTASTIC         THING                   708\n",
       "INVISIBLE WOMAN       MR. FANTASTIC           701\n",
       "HUMAN TORCH           INVISIBLE WOMAN         694\n",
       "                                             ... \n",
       "FURY, COL. NICHOLAS   HAVOK                     1\n",
       "CRYSTAL [INHUMAN]     WATSON-PARKER, MARY       1\n",
       "BLACK PANTHER         HAVOK                     1\n",
       "SHADOWCAT             SILVER SURFER             1\n",
       "ROGUE                 WATSON-PARKER, MARY       1\n",
       "Name: counts, Length: 1261, dtype: int64"
      ]
     },
     "execution_count": 115,
     "metadata": {},
     "output_type": "execute_result"
    }
   ],
   "source": [
    "dfbb"
   ]
  },
  {
   "cell_type": "code",
   "execution_count": 246,
   "id": "irish-cameroon",
   "metadata": {
    "scrolled": true
   },
   "outputs": [],
   "source": [
    "nicks = sorted(dfbb.reset_index().hero1_nick.unique())"
   ]
  },
  {
   "cell_type": "code",
   "execution_count": 247,
   "id": "vital-admission",
   "metadata": {},
   "outputs": [],
   "source": [
    "nicks2 = sorted(dfbb.reset_index().hero2_nick.unique())"
   ]
  },
  {
   "cell_type": "code",
   "execution_count": 248,
   "id": "sapphire-terror",
   "metadata": {},
   "outputs": [],
   "source": [
    "dsm = np.array([[dfbb[m,n] if (m,n) in dfbb else 0 for m in nicks] for n in nicks])"
   ]
  },
  {
   "cell_type": "code",
   "execution_count": 249,
   "id": "entire-principle",
   "metadata": {},
   "outputs": [],
   "source": [
    "dsm = dsm + dsm.T - 2*np.diag(np.diag(dsm))"
   ]
  },
  {
   "cell_type": "code",
   "execution_count": 250,
   "id": "colored-visitor",
   "metadata": {},
   "outputs": [],
   "source": [
    "dsm = dsm / dsm.max()"
   ]
  },
  {
   "cell_type": "code",
   "execution_count": 251,
   "id": "recognized-crowd",
   "metadata": {},
   "outputs": [
    {
     "data": {
      "text/plain": [
       "array([[0.        , 0.03360215, 0.41532258, ..., 0.04166667, 0.00134409,\n",
       "        0.16532258],\n",
       "       [0.03360215, 0.        , 0.12768817, ..., 0.54569892, 0.00403226,\n",
       "        0.02419355],\n",
       "       [0.41532258, 0.12768817, 0.        , ..., 0.15994624, 0.00537634,\n",
       "        0.19623656],\n",
       "       ...,\n",
       "       [0.04166667, 0.54569892, 0.15994624, ..., 0.        , 0.00537634,\n",
       "        0.04569892],\n",
       "       [0.00134409, 0.00403226, 0.00537634, ..., 0.00537634, 0.        ,\n",
       "        0.0094086 ],\n",
       "       [0.16532258, 0.02419355, 0.19623656, ..., 0.04569892, 0.0094086 ,\n",
       "        0.        ]])"
      ]
     },
     "execution_count": 251,
     "metadata": {},
     "output_type": "execute_result"
    }
   ],
   "source": [
    "dsm"
   ]
  },
  {
   "cell_type": "code",
   "execution_count": 449,
   "id": "vanilla-contribution",
   "metadata": {},
   "outputs": [],
   "source": [
    "ds = np.exp(-np.sqrt(dsm)) - np.eye(50)"
   ]
  },
  {
   "cell_type": "code",
   "execution_count": 450,
   "id": "alternate-surfing",
   "metadata": {},
   "outputs": [
    {
     "data": {
      "text/plain": [
       "1.0"
      ]
     },
     "execution_count": 450,
     "metadata": {},
     "output_type": "execute_result"
    }
   ],
   "source": [
    "dsm[20,44]"
   ]
  },
  {
   "cell_type": "code",
   "execution_count": 451,
   "id": "special-serial",
   "metadata": {},
   "outputs": [
    {
     "data": {
      "text/plain": [
       "0.36787944117144233"
      ]
     },
     "execution_count": 451,
     "metadata": {},
     "output_type": "execute_result"
    }
   ],
   "source": [
    "ds[20,44]"
   ]
  },
  {
   "cell_type": "code",
   "execution_count": null,
   "id": "driving-extension",
   "metadata": {},
   "outputs": [],
   "source": []
  },
  {
   "cell_type": "code",
   "execution_count": 452,
   "id": "french-malpractice",
   "metadata": {
    "scrolled": true
   },
   "outputs": [
    {
     "data": {
      "text/plain": [
       "[<matplotlib.lines.Line2D at 0x250f24b85b0>]"
      ]
     },
     "execution_count": 452,
     "metadata": {},
     "output_type": "execute_result"
    },
    {
     "data": {
      "image/png": "[encoded data removed]",
      "text/plain": [
       "<Figure size 432x288 with 1 Axes>"
      ]
     },
     "metadata": {
      "needs_background": "light"
     },
     "output_type": "display_data"
    }
   ],
   "source": [
    "plt.plot(sorted(ds.reshape(50*50)))"
   ]
  },
  {
   "cell_type": "code",
   "execution_count": 453,
   "id": "upper-education",
   "metadata": {},
   "outputs": [],
   "source": [
    "for n in enumerate(nicks):\n",
    "    for m in nicks:\n",
    "        pass"
   ]
  },
  {
   "cell_type": "code",
   "execution_count": 469,
   "id": "descending-wireless",
   "metadata": {},
   "outputs": [],
   "source": [
    "mds = MDS(10, dissimilarity='precomputed')"
   ]
  },
  {
   "cell_type": "code",
   "execution_count": 470,
   "id": "pointed-apple",
   "metadata": {},
   "outputs": [],
   "source": [
    "r = np.random.rand(50,50)"
   ]
  },
  {
   "cell_type": "code",
   "execution_count": 471,
   "id": "continent-timer",
   "metadata": {},
   "outputs": [
    {
     "data": {
      "text/plain": [
       "MDS(dissimilarity='precomputed', n_components=10)"
      ]
     },
     "execution_count": 471,
     "metadata": {},
     "output_type": "execute_result"
    }
   ],
   "source": [
    "mds.fit(dsm)"
   ]
  },
  {
   "cell_type": "code",
   "execution_count": 472,
   "id": "elder-beast",
   "metadata": {},
   "outputs": [
    {
     "data": {
      "text/plain": [
       "0.36787944117144233"
      ]
     },
     "execution_count": 472,
     "metadata": {},
     "output_type": "execute_result"
    }
   ],
   "source": [
    "ds[20,44]"
   ]
  },
  {
   "cell_type": "code",
   "execution_count": 473,
   "id": "catholic-gateway",
   "metadata": {},
   "outputs": [
    {
     "data": {
      "image/png": "[encoded data removed]",
      "text/plain": [
       "<Figure size 432x288 with 1 Axes>"
      ]
     },
     "metadata": {
      "needs_background": "light"
     },
     "output_type": "display_data"
    }
   ],
   "source": [
    "plt.scatter(mds.embedding_[:,0], mds.embedding_[:,1])\n",
    "for i, (x, y) in enumerate(zip(mds.embedding_[:,0], mds.embedding_[:,1])):\n",
    "    plt.text(x, y, str(i), color=\"red\", fontsize=12)"
   ]
  },
  {
   "cell_type": "code",
   "execution_count": 474,
   "id": "bizarre-current",
   "metadata": {},
   "outputs": [],
   "source": [
    "X = mds.embedding_"
   ]
  },
  {
   "cell_type": "code",
   "execution_count": 508,
   "id": "unsigned-petite",
   "metadata": {},
   "outputs": [],
   "source": [
    "tsne = TSNE(2, perplexity=8.5, n_iter=10000)"
   ]
  },
  {
   "cell_type": "code",
   "execution_count": 509,
   "id": "varied-instrument",
   "metadata": {},
   "outputs": [
    {
     "data": {
      "text/plain": [
       "TSNE(n_iter=10000, perplexity=8.5)"
      ]
     },
     "execution_count": 509,
     "metadata": {},
     "output_type": "execute_result"
    }
   ],
   "source": [
    "tsne.fit(X)"
   ]
  },
  {
   "cell_type": "code",
   "execution_count": 510,
   "id": "physical-consumption",
   "metadata": {
    "scrolled": true
   },
   "outputs": [
    {
     "data": {
      "image/png": "[encoded data removed]",
      "text/plain": [
       "<Figure size 432x288 with 1 Axes>"
      ]
     },
     "metadata": {
      "needs_background": "light"
     },
     "output_type": "display_data"
    }
   ],
   "source": [
    "plt.scatter(tsne.embedding_[:,0], tsne.embedding_[:,1])\n",
    "for i, (x, y) in enumerate(zip(tsne.embedding_[:,0], tsne.embedding_[:,1])):\n",
    "    plt.text(x, y, str(i), color=\"red\", fontsize=12)"
   ]
  },
  {
   "cell_type": "code",
   "execution_count": 501,
   "id": "permanent-election",
   "metadata": {},
   "outputs": [
    {
     "data": {
      "text/plain": [
       "'SCARLET WITCH'"
      ]
     },
     "execution_count": 501,
     "metadata": {},
     "output_type": "execute_result"
    }
   ],
   "source": [
    "nicks[37]"
   ]
  },
  {
   "cell_type": "code",
   "execution_count": null,
   "id": "bigger-booth",
   "metadata": {},
   "outputs": [],
   "source": []
  },
  {
   "cell_type": "code",
   "execution_count": 479,
   "id": "still-proposal",
   "metadata": {},
   "outputs": [
    {
     "data": {
      "text/plain": [
       "744"
      ]
     },
     "execution_count": 479,
     "metadata": {},
     "output_type": "execute_result"
    }
   ],
   "source": [
    "dfbb[nicks[20], nicks[44]]"
   ]
  },
  {
   "cell_type": "code",
   "execution_count": null,
   "id": "pleasant-brother",
   "metadata": {},
   "outputs": [],
   "source": []
  },
  {
   "cell_type": "code",
   "execution_count": 321,
   "id": "champion-singapore",
   "metadata": {},
   "outputs": [
    {
     "ename": "FileNotFoundError",
     "evalue": "[Errno 2] No such file or directory: 'a.jpg'",
     "output_type": "error",
     "traceback": [
      "\u001b[1;31m---------------------------------------------------------------------------\u001b[0m",
      "\u001b[1;31mFileNotFoundError\u001b[0m                         Traceback (most recent call last)",
      "\u001b[1;32m<ipython-input-321-13cd95936634>\u001b[0m in \u001b[0;36m<module>\u001b[1;34m\u001b[0m\n\u001b[0;32m     19\u001b[0m \u001b[1;33m\u001b[0m\u001b[0m\n\u001b[0;32m     20\u001b[0m \u001b[1;32mfor\u001b[0m \u001b[0mx0\u001b[0m\u001b[1;33m,\u001b[0m \u001b[0my0\u001b[0m\u001b[1;33m,\u001b[0m \u001b[0mpath\u001b[0m \u001b[1;32min\u001b[0m \u001b[0mzip\u001b[0m\u001b[1;33m(\u001b[0m\u001b[0mx\u001b[0m\u001b[1;33m,\u001b[0m \u001b[0my\u001b[0m\u001b[1;33m,\u001b[0m\u001b[0mpaths\u001b[0m\u001b[1;33m)\u001b[0m\u001b[1;33m:\u001b[0m\u001b[1;33m\u001b[0m\u001b[1;33m\u001b[0m\u001b[0m\n\u001b[1;32m---> 21\u001b[1;33m     \u001b[0mab\u001b[0m \u001b[1;33m=\u001b[0m \u001b[0mAnnotationBbox\u001b[0m\u001b[1;33m(\u001b[0m\u001b[0mgetImage\u001b[0m\u001b[1;33m(\u001b[0m\u001b[0mpath\u001b[0m\u001b[1;33m)\u001b[0m\u001b[1;33m,\u001b[0m \u001b[1;33m(\u001b[0m\u001b[0mx0\u001b[0m\u001b[1;33m,\u001b[0m \u001b[0my0\u001b[0m\u001b[1;33m)\u001b[0m\u001b[1;33m,\u001b[0m \u001b[0mframeon\u001b[0m\u001b[1;33m=\u001b[0m\u001b[1;32mFalse\u001b[0m\u001b[1;33m)\u001b[0m\u001b[1;33m\u001b[0m\u001b[1;33m\u001b[0m\u001b[0m\n\u001b[0m\u001b[0;32m     22\u001b[0m     \u001b[0max\u001b[0m\u001b[1;33m.\u001b[0m\u001b[0madd_artist\u001b[0m\u001b[1;33m(\u001b[0m\u001b[0mab\u001b[0m\u001b[1;33m)\u001b[0m\u001b[1;33m\u001b[0m\u001b[1;33m\u001b[0m\u001b[0m\n",
      "\u001b[1;32m<ipython-input-321-13cd95936634>\u001b[0m in \u001b[0;36mgetImage\u001b[1;34m(path)\u001b[0m\n\u001b[0;32m      3\u001b[0m \u001b[1;33m\u001b[0m\u001b[0m\n\u001b[0;32m      4\u001b[0m \u001b[1;32mdef\u001b[0m \u001b[0mgetImage\u001b[0m\u001b[1;33m(\u001b[0m\u001b[0mpath\u001b[0m\u001b[1;33m)\u001b[0m\u001b[1;33m:\u001b[0m\u001b[1;33m\u001b[0m\u001b[1;33m\u001b[0m\u001b[0m\n\u001b[1;32m----> 5\u001b[1;33m     \u001b[1;32mreturn\u001b[0m \u001b[0mOffsetImage\u001b[0m\u001b[1;33m(\u001b[0m\u001b[0mplt\u001b[0m\u001b[1;33m.\u001b[0m\u001b[0mimread\u001b[0m\u001b[1;33m(\u001b[0m\u001b[0mpath\u001b[0m\u001b[1;33m)\u001b[0m\u001b[1;33m)\u001b[0m\u001b[1;33m\u001b[0m\u001b[1;33m\u001b[0m\u001b[0m\n\u001b[0m\u001b[0;32m      6\u001b[0m \u001b[1;33m\u001b[0m\u001b[0m\n\u001b[0;32m      7\u001b[0m paths = [\n",
      "\u001b[1;32m~\\Anaconda3\\lib\\site-packages\\matplotlib\\pyplot.py\u001b[0m in \u001b[0;36mimread\u001b[1;34m(fname, format)\u001b[0m\n\u001b[0;32m   2244\u001b[0m \u001b[1;33m@\u001b[0m\u001b[0m_copy_docstring_and_deprecators\u001b[0m\u001b[1;33m(\u001b[0m\u001b[0mmatplotlib\u001b[0m\u001b[1;33m.\u001b[0m\u001b[0mimage\u001b[0m\u001b[1;33m.\u001b[0m\u001b[0mimread\u001b[0m\u001b[1;33m)\u001b[0m\u001b[1;33m\u001b[0m\u001b[1;33m\u001b[0m\u001b[0m\n\u001b[0;32m   2245\u001b[0m \u001b[1;32mdef\u001b[0m \u001b[0mimread\u001b[0m\u001b[1;33m(\u001b[0m\u001b[0mfname\u001b[0m\u001b[1;33m,\u001b[0m \u001b[0mformat\u001b[0m\u001b[1;33m=\u001b[0m\u001b[1;32mNone\u001b[0m\u001b[1;33m)\u001b[0m\u001b[1;33m:\u001b[0m\u001b[1;33m\u001b[0m\u001b[1;33m\u001b[0m\u001b[0m\n\u001b[1;32m-> 2246\u001b[1;33m     \u001b[1;32mreturn\u001b[0m \u001b[0mmatplotlib\u001b[0m\u001b[1;33m.\u001b[0m\u001b[0mimage\u001b[0m\u001b[1;33m.\u001b[0m\u001b[0mimread\u001b[0m\u001b[1;33m(\u001b[0m\u001b[0mfname\u001b[0m\u001b[1;33m,\u001b[0m \u001b[0mformat\u001b[0m\u001b[1;33m)\u001b[0m\u001b[1;33m\u001b[0m\u001b[1;33m\u001b[0m\u001b[0m\n\u001b[0m\u001b[0;32m   2247\u001b[0m \u001b[1;33m\u001b[0m\u001b[0m\n\u001b[0;32m   2248\u001b[0m \u001b[1;33m\u001b[0m\u001b[0m\n",
      "\u001b[1;32m~\\Anaconda3\\lib\\site-packages\\matplotlib\\image.py\u001b[0m in \u001b[0;36mimread\u001b[1;34m(fname, format)\u001b[0m\n\u001b[0;32m   1494\u001b[0m                     \u001b[0mresponse\u001b[0m \u001b[1;33m=\u001b[0m \u001b[0mio\u001b[0m\u001b[1;33m.\u001b[0m\u001b[0mBytesIO\u001b[0m\u001b[1;33m(\u001b[0m\u001b[0mresponse\u001b[0m\u001b[1;33m.\u001b[0m\u001b[0mread\u001b[0m\u001b[1;33m(\u001b[0m\u001b[1;33m)\u001b[0m\u001b[1;33m)\u001b[0m\u001b[1;33m\u001b[0m\u001b[1;33m\u001b[0m\u001b[0m\n\u001b[0;32m   1495\u001b[0m                 \u001b[1;32mreturn\u001b[0m \u001b[0mimread\u001b[0m\u001b[1;33m(\u001b[0m\u001b[0mresponse\u001b[0m\u001b[1;33m,\u001b[0m \u001b[0mformat\u001b[0m\u001b[1;33m=\u001b[0m\u001b[0mext\u001b[0m\u001b[1;33m)\u001b[0m\u001b[1;33m\u001b[0m\u001b[1;33m\u001b[0m\u001b[0m\n\u001b[1;32m-> 1496\u001b[1;33m     \u001b[1;32mwith\u001b[0m \u001b[0mimg_open\u001b[0m\u001b[1;33m(\u001b[0m\u001b[0mfname\u001b[0m\u001b[1;33m)\u001b[0m \u001b[1;32mas\u001b[0m \u001b[0mimage\u001b[0m\u001b[1;33m:\u001b[0m\u001b[1;33m\u001b[0m\u001b[1;33m\u001b[0m\u001b[0m\n\u001b[0m\u001b[0;32m   1497\u001b[0m         return (_pil_png_to_float_array(image)\n\u001b[0;32m   1498\u001b[0m                 \u001b[1;32mif\u001b[0m \u001b[0misinstance\u001b[0m\u001b[1;33m(\u001b[0m\u001b[0mimage\u001b[0m\u001b[1;33m,\u001b[0m \u001b[0mPIL\u001b[0m\u001b[1;33m.\u001b[0m\u001b[0mPngImagePlugin\u001b[0m\u001b[1;33m.\u001b[0m\u001b[0mPngImageFile\u001b[0m\u001b[1;33m)\u001b[0m \u001b[1;32melse\u001b[0m\u001b[1;33m\u001b[0m\u001b[1;33m\u001b[0m\u001b[0m\n",
      "\u001b[1;32m~\\Anaconda3\\lib\\site-packages\\PIL\\Image.py\u001b[0m in \u001b[0;36mopen\u001b[1;34m(fp, mode, formats)\u001b[0m\n\u001b[0;32m   2902\u001b[0m \u001b[1;33m\u001b[0m\u001b[0m\n\u001b[0;32m   2903\u001b[0m     \u001b[1;32mif\u001b[0m \u001b[0mfilename\u001b[0m\u001b[1;33m:\u001b[0m\u001b[1;33m\u001b[0m\u001b[1;33m\u001b[0m\u001b[0m\n\u001b[1;32m-> 2904\u001b[1;33m         \u001b[0mfp\u001b[0m \u001b[1;33m=\u001b[0m \u001b[0mbuiltins\u001b[0m\u001b[1;33m.\u001b[0m\u001b[0mopen\u001b[0m\u001b[1;33m(\u001b[0m\u001b[0mfilename\u001b[0m\u001b[1;33m,\u001b[0m \u001b[1;34m\"rb\"\u001b[0m\u001b[1;33m)\u001b[0m\u001b[1;33m\u001b[0m\u001b[1;33m\u001b[0m\u001b[0m\n\u001b[0m\u001b[0;32m   2905\u001b[0m         \u001b[0mexclusive_fp\u001b[0m \u001b[1;33m=\u001b[0m \u001b[1;32mTrue\u001b[0m\u001b[1;33m\u001b[0m\u001b[1;33m\u001b[0m\u001b[0m\n\u001b[0;32m   2906\u001b[0m \u001b[1;33m\u001b[0m\u001b[0m\n",
      "\u001b[1;31mFileNotFoundError\u001b[0m: [Errno 2] No such file or directory: 'a.jpg'"
     ]
    },
    {
     "data": {
      "image/png": "[encoded data removed]",
      "text/plain": [
       "<Figure size 432x288 with 1 Axes>"
      ]
     },
     "metadata": {
      "needs_background": "light"
     },
     "output_type": "display_data"
    }
   ],
   "source": [
    "import matplotlib.pyplot as plt\n",
    "from matplotlib.offsetbox import OffsetImage, AnnotationBbox\n",
    "\n",
    "def getImage(path):\n",
    "    return OffsetImage(plt.imread(path))\n",
    "\n",
    "paths = [\n",
    "    'a.jpg',\n",
    "    'b.jpg',\n",
    "    'c.jpg',\n",
    "    'd.jpg',\n",
    "    'e.jpg']\n",
    "\n",
    "x = [0,1,2,3,4]\n",
    "y = [0,1,2,3,4]\n",
    "\n",
    "fig, ax = plt.subplots()\n",
    "ax.scatter(x, y) \n",
    "\n",
    "for x0, y0, path in zip(x, y,paths):\n",
    "    ab = AnnotationBbox(getImage(path), (x0, y0), frameon=False)\n",
    "    ax.add_artist(ab)"
   ]
  },
  {
   "cell_type": "code",
   "execution_count": null,
   "id": "collectible-glucose",
   "metadata": {},
   "outputs": [],
   "source": []
  },
  {
   "cell_type": "code",
   "execution_count": null,
   "id": "polished-yugoslavia",
   "metadata": {},
   "outputs": [],
   "source": []
  }
 ],
 "metadata": {
  "kernelspec": {
   "display_name": "Python 3",
   "language": "python",
   "name": "python3"
  },
  "language_info": {
   "codemirror_mode": {
    "name": "ipython",
    "version": 3
   },
   "file_extension": ".py",
   "mimetype": "text/x-python",
   "name": "python",
   "nbconvert_exporter": "python",
   "pygments_lexer": "ipython3",
   "version": "3.8.3"
  }
 },
 "nbformat": 4,
 "nbformat_minor": 5
}
